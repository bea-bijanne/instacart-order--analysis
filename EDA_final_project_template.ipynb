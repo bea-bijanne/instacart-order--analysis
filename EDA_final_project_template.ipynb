{
 "cells": [
  {
   "cell_type": "markdown",
   "id": "fbf1adab",
   "metadata": {},
   "source": [
    "# Section One\n",
    "\n",
    "**Initialization - Load - Overview**"
   ]
  },
  {
   "cell_type": "code",
   "execution_count": 2,
   "id": "ad36396d",
   "metadata": {},
   "outputs": [],
   "source": [
    "import os\n",
    "import pandas as pd\n",
    "from matplotlib import pyplot as plt"
   ]
  },
  {
   "cell_type": "markdown",
   "id": "ad6a1efa",
   "metadata": {},
   "source": [
    "**Load Data**"
   ]
  },
  {
   "cell_type": "code",
   "execution_count": 4,
   "id": "5130e05e",
   "metadata": {},
   "outputs": [],
   "source": [
    "data_aisles = pd.read_csv('data/aisles.csv', sep=\";\")\n",
    "data_departments = pd.read_csv('data/departments.csv', sep=\";\")\n",
    "data_insta_orders = pd.read_csv('data/instacart_orders.csv', sep=';')\n",
    "data_order_products = pd.read_csv('data/order_products.csv', sep=\";\")\n",
    "data_products = pd.read_csv('data/products.csv', sep=';')"
   ]
  },
  {
   "cell_type": "markdown",
   "id": "d865147c",
   "metadata": {},
   "source": [
    "**Data_Insta_Orders Dataset Overview**\n",
    "\n",
    "**Dataset Size:**  \n",
    "- **Rows:** 478,967  \n",
    "- **Columns:** 6  \n",
    "\n",
    "**Key Variables:**  \n",
    "- **order_id:** Unique order identifier  \n",
    "- **user_id:** Unique user identifier  \n",
    "- **order_number:** Sequential order count per user  \n",
    "- **order_dow:** Day of the week when the order was placed  \n",
    "- **order_hour_of_day:** Hour the order was placed  \n",
    "- **days_since_prior_order:** Time elapsed since the previous order (missing for first orders)\n",
    "\n",
    "**Data Types:**  \n",
    "- **int64:** order_id, user_id, order_number, order_dow, order_hour_of_day  \n",
    "- **float64:** days_since_prior_order\n",
    "\n",
    "**Missing Values:**  \n",
    "- The `days_since_prior_order` column has 28,819 missing values, likely indicating users' first orders."
   ]
  },
  {
   "cell_type": "code",
   "execution_count": 60,
   "id": "74e6f241",
   "metadata": {},
   "outputs": [
    {
     "name": "stdout",
     "output_type": "stream",
     "text": [
      "<class 'pandas.core.frame.DataFrame'>\n",
      "RangeIndex: 134 entries, 0 to 133\n",
      "Data columns (total 1 columns):\n",
      " #   Column          Non-Null Count  Dtype \n",
      "---  ------          --------------  ----- \n",
      " 0   aisle_id;aisle  134 non-null    object\n",
      "dtypes: object(1)\n",
      "memory usage: 1.2+ KB\n"
     ]
    }
   ],
   "source": [
    "df = pd.read_csv(\"data/aisles.csv\")  # Test one dataset\n",
    "df.info()"
   ]
  },
  {
   "cell_type": "code",
   "execution_count": 5,
   "id": "59e2090f",
   "metadata": {},
   "outputs": [
    {
     "name": "stdout",
     "output_type": "stream",
     "text": [
      "<class 'pandas.core.frame.DataFrame'>\n",
      "RangeIndex: 478967 entries, 0 to 478966\n",
      "Data columns (total 6 columns):\n",
      " #   Column                  Non-Null Count   Dtype  \n",
      "---  ------                  --------------   -----  \n",
      " 0   order_id                478967 non-null  int64  \n",
      " 1   user_id                 478967 non-null  int64  \n",
      " 2   order_number            478967 non-null  int64  \n",
      " 3   order_dow               478967 non-null  int64  \n",
      " 4   order_hour_of_day       478967 non-null  int64  \n",
      " 5   days_since_prior_order  450148 non-null  float64\n",
      "dtypes: float64(1), int64(5)\n",
      "memory usage: 21.9 MB\n"
     ]
    }
   ],
   "source": [
    "data_insta_orders.info()"
   ]
  },
  {
   "cell_type": "markdown",
   "id": "b7d0438f",
   "metadata": {},
   "source": [
    "**Data_Products Dataset Overview**\n",
    "\n",
    "**Dataset Size:**  \n",
    "- **Rows:** 49,694  \n",
    "- **Columns:** 4  \n",
    "\n",
    "**Key Variables:**  \n",
    "- **product_id:** Unique product identifier  \n",
    "- **product_name:** Name of the product  \n",
    "- **aisle_id:** Aisle identifier  \n",
    "- **department_id:** Department identifier\n",
    "\n",
    "**Data Types:**  \n",
    "- **int64:** product_id, aisle_id, department_id  \n",
    "- **object:** product_name\n",
    "\n",
    "**Missing Values:**  \n",
    "- product_name: 1,258 missing values"
   ]
  },
  {
   "cell_type": "code",
   "execution_count": 6,
   "id": "6fc81694",
   "metadata": {},
   "outputs": [
    {
     "name": "stdout",
     "output_type": "stream",
     "text": [
      "<class 'pandas.core.frame.DataFrame'>\n",
      "RangeIndex: 49694 entries, 0 to 49693\n",
      "Data columns (total 4 columns):\n",
      " #   Column         Non-Null Count  Dtype \n",
      "---  ------         --------------  ----- \n",
      " 0   product_id     49694 non-null  int64 \n",
      " 1   product_name   48436 non-null  object\n",
      " 2   aisle_id       49694 non-null  int64 \n",
      " 3   department_id  49694 non-null  int64 \n",
      "dtypes: int64(3), object(1)\n",
      "memory usage: 1.5+ MB\n"
     ]
    }
   ],
   "source": [
    "data_products.info()"
   ]
  },
  {
   "cell_type": "markdown",
   "id": "f558ab86",
   "metadata": {},
   "source": [
    "**Data_Aisles Dataset Overview**\n",
    "\n",
    "**Dataset Size:**  \n",
    "- **Rows:** 134  \n",
    "- **Columns:** 2  \n",
    "\n",
    "**Key Variables:**  \n",
    "- **aisle_id:** Unique aisle identifier  \n",
    "- **aisle:** Aisle name\n",
    "\n",
    "**Data Types:**  \n",
    "- **int64:** aisle_id  \n",
    "- **object:** aisle\n",
    "\n",
    "**Missing Values:**  \n",
    "- None (all values are present)"
   ]
  },
  {
   "cell_type": "code",
   "execution_count": 7,
   "id": "4fb8eaf2",
   "metadata": {},
   "outputs": [
    {
     "name": "stdout",
     "output_type": "stream",
     "text": [
      "<class 'pandas.core.frame.DataFrame'>\n",
      "RangeIndex: 134 entries, 0 to 133\n",
      "Data columns (total 2 columns):\n",
      " #   Column    Non-Null Count  Dtype \n",
      "---  ------    --------------  ----- \n",
      " 0   aisle_id  134 non-null    int64 \n",
      " 1   aisle     134 non-null    object\n",
      "dtypes: int64(1), object(1)\n",
      "memory usage: 2.2+ KB\n"
     ]
    }
   ],
   "source": [
    "data_aisles.info()"
   ]
  },
  {
   "cell_type": "markdown",
   "id": "fa591348",
   "metadata": {},
   "source": [
    "**Data_Departments Dataset Overview**\n",
    "\n",
    "**Dataset Size:**  \n",
    "- **Rows:** 21  \n",
    "- **Columns:** 2  \n",
    "\n",
    "**Key Variables:**  \n",
    "- **department_id:** Unique department identifier  \n",
    "- **department:** Department name\n",
    "\n",
    "**Data Types:**  \n",
    "- **int64:** department_id  \n",
    "- **object:** department\n",
    "\n",
    "**Missing Values:**  \n",
    "- None (all values are present)"
   ]
  },
  {
   "cell_type": "code",
   "execution_count": 8,
   "id": "d124316d",
   "metadata": {},
   "outputs": [
    {
     "name": "stdout",
     "output_type": "stream",
     "text": [
      "<class 'pandas.core.frame.DataFrame'>\n",
      "RangeIndex: 21 entries, 0 to 20\n",
      "Data columns (total 2 columns):\n",
      " #   Column         Non-Null Count  Dtype \n",
      "---  ------         --------------  ----- \n",
      " 0   department_id  21 non-null     int64 \n",
      " 1   department     21 non-null     object\n",
      "dtypes: int64(1), object(1)\n",
      "memory usage: 468.0+ bytes\n"
     ]
    }
   ],
   "source": [
    "data_departments.info()"
   ]
  },
  {
   "cell_type": "markdown",
   "id": "d1cedfc7",
   "metadata": {},
   "source": [
    "**Data_Order_Products Dataset Overview**\n",
    "\n",
    "**Dataset Size:**  \n",
    "- **Rows:** 4,545,007  \n",
    "- **Columns:** 4  \n",
    "\n",
    "**Key Variables:**  \n",
    "- **order_id:** Unique order identifier  \n",
    "- **product_id:** Unique product identifier  \n",
    "- **add_to_cart_order:** Sequence indicating when the product was added to the cart  \n",
    "- **reordered:** Binary flag indicating if the product was previously ordered\n",
    "\n",
    "**Data Types:**  \n",
    "- **int64:** order_id, product_id, reordered  \n",
    "- **float64:** add_to_cart_order\n",
    "\n",
    "**Missing Values:**  \n",
    "- None (all values are present)"
   ]
  },
  {
   "cell_type": "code",
   "execution_count": 9,
   "id": "6fc7102c",
   "metadata": {},
   "outputs": [
    {
     "name": "stdout",
     "output_type": "stream",
     "text": [
      "<class 'pandas.core.frame.DataFrame'>\n",
      "RangeIndex: 4545007 entries, 0 to 4545006\n",
      "Data columns (total 4 columns):\n",
      " #   Column             Dtype  \n",
      "---  ------             -----  \n",
      " 0   order_id           int64  \n",
      " 1   product_id         int64  \n",
      " 2   add_to_cart_order  float64\n",
      " 3   reordered          int64  \n",
      "dtypes: float64(1), int64(3)\n",
      "memory usage: 138.7 MB\n"
     ]
    }
   ],
   "source": [
    "data_order_products.info()"
   ]
  },
  {
   "cell_type": "markdown",
   "id": "0051601f",
   "metadata": {},
   "source": [
    "# Section Two\n",
    "\n",
    "**First Five Rows and Data Type Summary of Each Dataset**\n",
    "\n",
    "**DATASET PREVIEW:** \n",
    "- **Quick Overview:** View first rows to understand data structure and spot obvious issues\n",
    "- **Type Check:** Verify column data types match expected content (numeric, text, dates)\n",
    "- **Missing Values:** Identify null or empty entries in the preview sample\n",
    "- **Format Check:** Spot inconsistent formatting or unexpected values early\n",
    "\n",
    "**Data Type Summary and Management Considerations:**\n",
    "- **Data Integrity:** Use proper types to avoid errors (e.g., numbers as strings (if applicable) cause calculation issues)\n",
    "- **Performance:** Convert to efficient types (e.g., object → categorical) for faster processing and less memory, where necessary\n",
    "- **Analysis Ready:** Correct types enable better filtering and calculations (e.g., datetime for time-based analysis)\n",
    "- **Quality Control:** Type conversion reveals data issues like mixed types or invalid entries"
   ]
  },
  {
   "cell_type": "code",
   "execution_count": 10,
   "id": "6a0a7cd1",
   "metadata": {},
   "outputs": [
    {
     "data": {
      "text/plain": [
       "'First 5 rows for Data_Insta_Orders:'"
      ]
     },
     "metadata": {},
     "output_type": "display_data"
    },
    {
     "data": {
      "text/html": [
       "<div>\n",
       "<style scoped>\n",
       "    .dataframe tbody tr th:only-of-type {\n",
       "        vertical-align: middle;\n",
       "    }\n",
       "\n",
       "    .dataframe tbody tr th {\n",
       "        vertical-align: top;\n",
       "    }\n",
       "\n",
       "    .dataframe thead th {\n",
       "        text-align: right;\n",
       "    }\n",
       "</style>\n",
       "<table border=\"1\" class=\"dataframe\">\n",
       "  <thead>\n",
       "    <tr style=\"text-align: right;\">\n",
       "      <th></th>\n",
       "      <th>order_id</th>\n",
       "      <th>user_id</th>\n",
       "      <th>order_number</th>\n",
       "      <th>order_dow</th>\n",
       "      <th>order_hour_of_day</th>\n",
       "      <th>days_since_prior_order</th>\n",
       "    </tr>\n",
       "  </thead>\n",
       "  <tbody>\n",
       "    <tr>\n",
       "      <th>0</th>\n",
       "      <td>1515936</td>\n",
       "      <td>183418</td>\n",
       "      <td>11</td>\n",
       "      <td>6</td>\n",
       "      <td>13</td>\n",
       "      <td>30.0</td>\n",
       "    </tr>\n",
       "    <tr>\n",
       "      <th>1</th>\n",
       "      <td>1690866</td>\n",
       "      <td>163593</td>\n",
       "      <td>5</td>\n",
       "      <td>5</td>\n",
       "      <td>12</td>\n",
       "      <td>9.0</td>\n",
       "    </tr>\n",
       "    <tr>\n",
       "      <th>2</th>\n",
       "      <td>1454967</td>\n",
       "      <td>39980</td>\n",
       "      <td>4</td>\n",
       "      <td>5</td>\n",
       "      <td>19</td>\n",
       "      <td>2.0</td>\n",
       "    </tr>\n",
       "    <tr>\n",
       "      <th>3</th>\n",
       "      <td>1768857</td>\n",
       "      <td>82516</td>\n",
       "      <td>56</td>\n",
       "      <td>0</td>\n",
       "      <td>20</td>\n",
       "      <td>10.0</td>\n",
       "    </tr>\n",
       "    <tr>\n",
       "      <th>4</th>\n",
       "      <td>3007858</td>\n",
       "      <td>196724</td>\n",
       "      <td>2</td>\n",
       "      <td>4</td>\n",
       "      <td>12</td>\n",
       "      <td>17.0</td>\n",
       "    </tr>\n",
       "  </tbody>\n",
       "</table>\n",
       "</div>"
      ],
      "text/plain": [
       "   order_id  user_id  order_number  order_dow  order_hour_of_day  \\\n",
       "0   1515936   183418            11          6                 13   \n",
       "1   1690866   163593             5          5                 12   \n",
       "2   1454967    39980             4          5                 19   \n",
       "3   1768857    82516            56          0                 20   \n",
       "4   3007858   196724             2          4                 12   \n",
       "\n",
       "   days_since_prior_order  \n",
       "0                    30.0  \n",
       "1                     9.0  \n",
       "2                     2.0  \n",
       "3                    10.0  \n",
       "4                    17.0  "
      ]
     },
     "metadata": {},
     "output_type": "display_data"
    }
   ],
   "source": [
    "display('First 5 rows for Data_Insta_Orders:', data_insta_orders.head())"
   ]
  },
  {
   "cell_type": "markdown",
   "id": "6d3153c0",
   "metadata": {},
   "source": [
    "**Columns 0-2:** \n",
    "- order_id, user_id, order_number\n",
    "  - These are unique identifiers stored as integers\n",
    "\n",
    "**Column 3:** \n",
    "- order_dow\n",
    "  - Integer format (0=Sunday) works for filtering. Optional: convert to categorical with day labels for better readability\n",
    "\n",
    "**Column 4:** \n",
    "- order_hour_of_day**\n",
    "  - Integer format sufficient for hour comparisons. Float conversion unnecessary unless fractional hours needed\n",
    "\n",
    "**Column 5:** \n",
    "- days_since_prior_order**\n",
    "  - Keep as float to handle NaN values properly. Integer conversion possible but may affect calculations with missing values\n",
    "\n",
    "\n",
    "Keeping all data types as-is for now"
   ]
  },
  {
   "cell_type": "code",
   "execution_count": 11,
   "id": "4edd9bfa",
   "metadata": {},
   "outputs": [
    {
     "data": {
      "text/plain": [
       "'First 5 rows for Data_Product:'"
      ]
     },
     "metadata": {},
     "output_type": "display_data"
    },
    {
     "data": {
      "text/html": [
       "<div>\n",
       "<style scoped>\n",
       "    .dataframe tbody tr th:only-of-type {\n",
       "        vertical-align: middle;\n",
       "    }\n",
       "\n",
       "    .dataframe tbody tr th {\n",
       "        vertical-align: top;\n",
       "    }\n",
       "\n",
       "    .dataframe thead th {\n",
       "        text-align: right;\n",
       "    }\n",
       "</style>\n",
       "<table border=\"1\" class=\"dataframe\">\n",
       "  <thead>\n",
       "    <tr style=\"text-align: right;\">\n",
       "      <th></th>\n",
       "      <th>product_id</th>\n",
       "      <th>product_name</th>\n",
       "      <th>aisle_id</th>\n",
       "      <th>department_id</th>\n",
       "    </tr>\n",
       "  </thead>\n",
       "  <tbody>\n",
       "    <tr>\n",
       "      <th>0</th>\n",
       "      <td>1</td>\n",
       "      <td>Chocolate Sandwich Cookies</td>\n",
       "      <td>61</td>\n",
       "      <td>19</td>\n",
       "    </tr>\n",
       "    <tr>\n",
       "      <th>1</th>\n",
       "      <td>2</td>\n",
       "      <td>All-Seasons Salt</td>\n",
       "      <td>104</td>\n",
       "      <td>13</td>\n",
       "    </tr>\n",
       "    <tr>\n",
       "      <th>2</th>\n",
       "      <td>3</td>\n",
       "      <td>Robust Golden Unsweetened Oolong Tea</td>\n",
       "      <td>94</td>\n",
       "      <td>7</td>\n",
       "    </tr>\n",
       "    <tr>\n",
       "      <th>3</th>\n",
       "      <td>4</td>\n",
       "      <td>Smart Ones Classic Favorites Mini Rigatoni Wit...</td>\n",
       "      <td>38</td>\n",
       "      <td>1</td>\n",
       "    </tr>\n",
       "    <tr>\n",
       "      <th>4</th>\n",
       "      <td>5</td>\n",
       "      <td>Green Chile Anytime Sauce</td>\n",
       "      <td>5</td>\n",
       "      <td>13</td>\n",
       "    </tr>\n",
       "  </tbody>\n",
       "</table>\n",
       "</div>"
      ],
      "text/plain": [
       "   product_id                                       product_name  aisle_id  \\\n",
       "0           1                         Chocolate Sandwich Cookies        61   \n",
       "1           2                                   All-Seasons Salt       104   \n",
       "2           3               Robust Golden Unsweetened Oolong Tea        94   \n",
       "3           4  Smart Ones Classic Favorites Mini Rigatoni Wit...        38   \n",
       "4           5                          Green Chile Anytime Sauce         5   \n",
       "\n",
       "   department_id  \n",
       "0             19  \n",
       "1             13  \n",
       "2              7  \n",
       "3              1  \n",
       "4             13  "
      ]
     },
     "metadata": {},
     "output_type": "display_data"
    }
   ],
   "source": [
    "display('First 5 rows for Data_Product:', data_products.head())"
   ]
  },
  {
   "cell_type": "markdown",
   "id": "522dd89b",
   "metadata": {},
   "source": [
    "**Column 0:**\n",
    "- product_id\n",
    "  - Integer type (int64) appropriate for unique ID\n",
    "\n",
    "**Column 1:**\n",
    "- product_name\n",
    "  - Object type for text data. Contains some missing values\n",
    "\n",
    "**Column 2:**\n",
    "- aisle_id\n",
    "  - Integer type (int64). Consider categorical if grouping/visualization needed\n",
    "\n",
    "**Column 3:**\n",
    "- department_id\n",
    "  - Integer type (int64). Consider categorical for department analysis\""
   ]
  },
  {
   "cell_type": "code",
   "execution_count": 12,
   "id": "0c1037f5",
   "metadata": {},
   "outputs": [
    {
     "data": {
      "text/plain": [
       "'First 5 rows for Data_Aisles:'"
      ]
     },
     "metadata": {},
     "output_type": "display_data"
    },
    {
     "data": {
      "text/html": [
       "<div>\n",
       "<style scoped>\n",
       "    .dataframe tbody tr th:only-of-type {\n",
       "        vertical-align: middle;\n",
       "    }\n",
       "\n",
       "    .dataframe tbody tr th {\n",
       "        vertical-align: top;\n",
       "    }\n",
       "\n",
       "    .dataframe thead th {\n",
       "        text-align: right;\n",
       "    }\n",
       "</style>\n",
       "<table border=\"1\" class=\"dataframe\">\n",
       "  <thead>\n",
       "    <tr style=\"text-align: right;\">\n",
       "      <th></th>\n",
       "      <th>aisle_id</th>\n",
       "      <th>aisle</th>\n",
       "    </tr>\n",
       "  </thead>\n",
       "  <tbody>\n",
       "    <tr>\n",
       "      <th>0</th>\n",
       "      <td>1</td>\n",
       "      <td>prepared soups salads</td>\n",
       "    </tr>\n",
       "    <tr>\n",
       "      <th>1</th>\n",
       "      <td>2</td>\n",
       "      <td>specialty cheeses</td>\n",
       "    </tr>\n",
       "    <tr>\n",
       "      <th>2</th>\n",
       "      <td>3</td>\n",
       "      <td>energy granola bars</td>\n",
       "    </tr>\n",
       "    <tr>\n",
       "      <th>3</th>\n",
       "      <td>4</td>\n",
       "      <td>instant foods</td>\n",
       "    </tr>\n",
       "    <tr>\n",
       "      <th>4</th>\n",
       "      <td>5</td>\n",
       "      <td>marinades meat preparation</td>\n",
       "    </tr>\n",
       "  </tbody>\n",
       "</table>\n",
       "</div>"
      ],
      "text/plain": [
       "   aisle_id                       aisle\n",
       "0         1       prepared soups salads\n",
       "1         2           specialty cheeses\n",
       "2         3         energy granola bars\n",
       "3         4               instant foods\n",
       "4         5  marinades meat preparation"
      ]
     },
     "metadata": {},
     "output_type": "display_data"
    }
   ],
   "source": [
    "display('First 5 rows for Data_Aisles:', data_aisles.head())"
   ]
  },
  {
   "cell_type": "markdown",
   "id": "3b26d21d",
   "metadata": {},
   "source": [
    "**Column 0:**\n",
    "- aisle_id\n",
    "  - Integer type (int64) for unique aisle ID\n",
    "\n",
    " **Column 1:**\n",
    "- aisle\n",
    "  - Object type for aisle names. Optional: convert to categorical for performance"
   ]
  },
  {
   "cell_type": "code",
   "execution_count": 13,
   "id": "210be10c",
   "metadata": {},
   "outputs": [
    {
     "data": {
      "text/plain": [
       "'First 5 rows for Data_Departments:'"
      ]
     },
     "metadata": {},
     "output_type": "display_data"
    },
    {
     "data": {
      "text/html": [
       "<div>\n",
       "<style scoped>\n",
       "    .dataframe tbody tr th:only-of-type {\n",
       "        vertical-align: middle;\n",
       "    }\n",
       "\n",
       "    .dataframe tbody tr th {\n",
       "        vertical-align: top;\n",
       "    }\n",
       "\n",
       "    .dataframe thead th {\n",
       "        text-align: right;\n",
       "    }\n",
       "</style>\n",
       "<table border=\"1\" class=\"dataframe\">\n",
       "  <thead>\n",
       "    <tr style=\"text-align: right;\">\n",
       "      <th></th>\n",
       "      <th>department_id</th>\n",
       "      <th>department</th>\n",
       "    </tr>\n",
       "  </thead>\n",
       "  <tbody>\n",
       "    <tr>\n",
       "      <th>0</th>\n",
       "      <td>1</td>\n",
       "      <td>frozen</td>\n",
       "    </tr>\n",
       "    <tr>\n",
       "      <th>1</th>\n",
       "      <td>2</td>\n",
       "      <td>other</td>\n",
       "    </tr>\n",
       "    <tr>\n",
       "      <th>2</th>\n",
       "      <td>3</td>\n",
       "      <td>bakery</td>\n",
       "    </tr>\n",
       "    <tr>\n",
       "      <th>3</th>\n",
       "      <td>4</td>\n",
       "      <td>produce</td>\n",
       "    </tr>\n",
       "    <tr>\n",
       "      <th>4</th>\n",
       "      <td>5</td>\n",
       "      <td>alcohol</td>\n",
       "    </tr>\n",
       "  </tbody>\n",
       "</table>\n",
       "</div>"
      ],
      "text/plain": [
       "   department_id department\n",
       "0              1     frozen\n",
       "1              2      other\n",
       "2              3     bakery\n",
       "3              4    produce\n",
       "4              5    alcohol"
      ]
     },
     "metadata": {},
     "output_type": "display_data"
    }
   ],
   "source": [
    "display('First 5 rows for Data_Departments:', data_departments.head())"
   ]
  },
  {
   "cell_type": "markdown",
   "id": "09956614",
   "metadata": {},
   "source": [
    "**Column 0:**\n",
    "- department_id\n",
    "  - Integer type (int64) for unique department ID\n",
    "\n",
    "**Column 1:**\n",
    "- department \n",
    "  - Object type for department names. Optional: convert to categorical for performance\""
   ]
  },
  {
   "cell_type": "code",
   "execution_count": 14,
   "id": "ece3cb55",
   "metadata": {},
   "outputs": [
    {
     "data": {
      "text/plain": [
       "'First 5 rows for Data_Order_Products:'"
      ]
     },
     "metadata": {},
     "output_type": "display_data"
    },
    {
     "data": {
      "text/html": [
       "<div>\n",
       "<style scoped>\n",
       "    .dataframe tbody tr th:only-of-type {\n",
       "        vertical-align: middle;\n",
       "    }\n",
       "\n",
       "    .dataframe tbody tr th {\n",
       "        vertical-align: top;\n",
       "    }\n",
       "\n",
       "    .dataframe thead th {\n",
       "        text-align: right;\n",
       "    }\n",
       "</style>\n",
       "<table border=\"1\" class=\"dataframe\">\n",
       "  <thead>\n",
       "    <tr style=\"text-align: right;\">\n",
       "      <th></th>\n",
       "      <th>order_id</th>\n",
       "      <th>product_id</th>\n",
       "      <th>add_to_cart_order</th>\n",
       "      <th>reordered</th>\n",
       "    </tr>\n",
       "  </thead>\n",
       "  <tbody>\n",
       "    <tr>\n",
       "      <th>0</th>\n",
       "      <td>2141543</td>\n",
       "      <td>11440</td>\n",
       "      <td>17.0</td>\n",
       "      <td>0</td>\n",
       "    </tr>\n",
       "    <tr>\n",
       "      <th>1</th>\n",
       "      <td>567889</td>\n",
       "      <td>1560</td>\n",
       "      <td>1.0</td>\n",
       "      <td>1</td>\n",
       "    </tr>\n",
       "    <tr>\n",
       "      <th>2</th>\n",
       "      <td>2261212</td>\n",
       "      <td>26683</td>\n",
       "      <td>1.0</td>\n",
       "      <td>1</td>\n",
       "    </tr>\n",
       "    <tr>\n",
       "      <th>3</th>\n",
       "      <td>491251</td>\n",
       "      <td>8670</td>\n",
       "      <td>35.0</td>\n",
       "      <td>1</td>\n",
       "    </tr>\n",
       "    <tr>\n",
       "      <th>4</th>\n",
       "      <td>2571142</td>\n",
       "      <td>1940</td>\n",
       "      <td>5.0</td>\n",
       "      <td>1</td>\n",
       "    </tr>\n",
       "  </tbody>\n",
       "</table>\n",
       "</div>"
      ],
      "text/plain": [
       "   order_id  product_id  add_to_cart_order  reordered\n",
       "0   2141543       11440               17.0          0\n",
       "1    567889        1560                1.0          1\n",
       "2   2261212       26683                1.0          1\n",
       "3    491251        8670               35.0          1\n",
       "4   2571142        1940                5.0          1"
      ]
     },
     "metadata": {},
     "output_type": "display_data"
    }
   ],
   "source": [
    "display('First 5 rows for Data_Order_Products:', data_order_products.head())"
   ]
  },
  {
   "cell_type": "markdown",
   "id": "742c759b",
   "metadata": {},
   "source": [
    "**Column 0:**\n",
    "- order_id\n",
    "  - Integer type (int64) for unique order ID\n",
    "\n",
    " **Column 1:**\n",
    "- product_id\n",
    "  - Integer type (int64) for product lookup\n",
    " \n",
    " **Column 2:** \n",
    "- add_to_cart_order\n",
    "  - Float type. Optional: convert to nullable integer if no decimals\n",
    "\n",
    "**Column 3:**\n",
    "- reordered\n",
    "  - Integer type (int64) for binary flag. Optional: convert to boolean\""
   ]
  },
  {
   "cell_type": "markdown",
   "id": "589b1954",
   "metadata": {},
   "source": [
    "# Section Three\n",
    "\n",
    "**Using .sample() to randomly select rows of data for more varied insight**\n",
    "- Maintains the original data structure while showing a manageable subset\n",
    "- Helps prevent bias by veiwing different portions of the dataset\n",
    "\n",
    "**Using .nunique() to count the distinct values in each column**\n",
    "\n",
    "- Variability Analysis: Find columns with limited distinct values, indicating potential categorical data\n",
    "- Quality Control: Identify unexpected value uniformity that may signal data issues\n",
    "- Column Diversity: Get quick overview of value distribution across columns\n",
    "\n",
    "**Value distribution per column using .value_counts()**\n",
    "\n",
    "- Frequency Analysis: Shows count of each unique value, revealing data patterns and imbalances\n",
    "- Distribution Overview: Displays most/least common values to identify outliers and trends\n",
    "- Data Verification: Helps spot unexpected values and potential data entry errors\n",
    "\n",
    "**Data_Insta_Orders:**"
   ]
  },
  {
   "cell_type": "code",
   "execution_count": 15,
   "id": "2e80c266",
   "metadata": {},
   "outputs": [
    {
     "data": {
      "text/plain": [
       "'Random Sample of 5 rows for Data_Insta_Orders:'"
      ]
     },
     "metadata": {},
     "output_type": "display_data"
    },
    {
     "data": {
      "text/html": [
       "<div>\n",
       "<style scoped>\n",
       "    .dataframe tbody tr th:only-of-type {\n",
       "        vertical-align: middle;\n",
       "    }\n",
       "\n",
       "    .dataframe tbody tr th {\n",
       "        vertical-align: top;\n",
       "    }\n",
       "\n",
       "    .dataframe thead th {\n",
       "        text-align: right;\n",
       "    }\n",
       "</style>\n",
       "<table border=\"1\" class=\"dataframe\">\n",
       "  <thead>\n",
       "    <tr style=\"text-align: right;\">\n",
       "      <th></th>\n",
       "      <th>order_id</th>\n",
       "      <th>user_id</th>\n",
       "      <th>order_number</th>\n",
       "      <th>order_dow</th>\n",
       "      <th>order_hour_of_day</th>\n",
       "      <th>days_since_prior_order</th>\n",
       "    </tr>\n",
       "  </thead>\n",
       "  <tbody>\n",
       "    <tr>\n",
       "      <th>341142</th>\n",
       "      <td>1382103</td>\n",
       "      <td>160391</td>\n",
       "      <td>18</td>\n",
       "      <td>4</td>\n",
       "      <td>13</td>\n",
       "      <td>2.0</td>\n",
       "    </tr>\n",
       "    <tr>\n",
       "      <th>282669</th>\n",
       "      <td>1382951</td>\n",
       "      <td>200900</td>\n",
       "      <td>17</td>\n",
       "      <td>0</td>\n",
       "      <td>17</td>\n",
       "      <td>6.0</td>\n",
       "    </tr>\n",
       "    <tr>\n",
       "      <th>269686</th>\n",
       "      <td>2307876</td>\n",
       "      <td>6505</td>\n",
       "      <td>11</td>\n",
       "      <td>5</td>\n",
       "      <td>16</td>\n",
       "      <td>1.0</td>\n",
       "    </tr>\n",
       "    <tr>\n",
       "      <th>402533</th>\n",
       "      <td>1198833</td>\n",
       "      <td>150390</td>\n",
       "      <td>2</td>\n",
       "      <td>4</td>\n",
       "      <td>19</td>\n",
       "      <td>8.0</td>\n",
       "    </tr>\n",
       "    <tr>\n",
       "      <th>35419</th>\n",
       "      <td>2591985</td>\n",
       "      <td>198002</td>\n",
       "      <td>17</td>\n",
       "      <td>4</td>\n",
       "      <td>11</td>\n",
       "      <td>6.0</td>\n",
       "    </tr>\n",
       "  </tbody>\n",
       "</table>\n",
       "</div>"
      ],
      "text/plain": [
       "        order_id  user_id  order_number  order_dow  order_hour_of_day  \\\n",
       "341142   1382103   160391            18          4                 13   \n",
       "282669   1382951   200900            17          0                 17   \n",
       "269686   2307876     6505            11          5                 16   \n",
       "402533   1198833   150390             2          4                 19   \n",
       "35419    2591985   198002            17          4                 11   \n",
       "\n",
       "        days_since_prior_order  \n",
       "341142                     2.0  \n",
       "282669                     6.0  \n",
       "269686                     1.0  \n",
       "402533                     8.0  \n",
       "35419                      6.0  "
      ]
     },
     "metadata": {},
     "output_type": "display_data"
    },
    {
     "data": {
      "text/plain": [
       "'Unique values per column for Data_Insta_Orders:'"
      ]
     },
     "metadata": {},
     "output_type": "display_data"
    },
    {
     "data": {
      "text/plain": [
       "order_id                  478952\n",
       "user_id                   157437\n",
       "order_number                 100\n",
       "order_dow                      7\n",
       "order_hour_of_day             24\n",
       "days_since_prior_order        31\n",
       "dtype: int64"
      ]
     },
     "metadata": {},
     "output_type": "display_data"
    },
    {
     "data": {
      "text/plain": [
       "'Value counts per column for Data_Insta_Orders:'"
      ]
     },
     "metadata": {},
     "output_type": "display_data"
    },
    {
     "data": {
      "text/plain": [
       "order_id  user_id  order_number  order_dow  order_hour_of_day  days_since_prior_order\n",
       "467134    63189    21            3          2                  2.0                       2\n",
       "794638    50898    24            3          2                  2.0                       2\n",
       "1021560   53767    3             3          2                  9.0                       2\n",
       "391768    57671    19            3          2                  10.0                      2\n",
       "1286742   183220   48            3          2                  4.0                       2\n",
       "                                                                                        ..\n",
       "3421034   130508   16            3          15                 17.0                      1\n",
       "3421053   32775    37            6          13                 7.0                       1\n",
       "3421058   136952   20            3          18                 15.0                      1\n",
       "3421071   124485   3             1          14                 30.0                      1\n",
       "11        143742   4             1          19                 23.0                      1\n",
       "Name: count, Length: 450135, dtype: int64"
      ]
     },
     "metadata": {},
     "output_type": "display_data"
    }
   ],
   "source": [
    "display('Random Sample of 5 rows for Data_Insta_Orders:', data_insta_orders.sample(n=5))\n",
    "display('Unique values per column for Data_Insta_Orders:', data_insta_orders.nunique())\n",
    "display('Value counts per column for Data_Insta_Orders:', data_insta_orders.value_counts())"
   ]
  },
  {
   "cell_type": "markdown",
   "id": "c087639e",
   "metadata": {},
   "source": [
    "**Data_Products:**"
   ]
  },
  {
   "cell_type": "code",
   "execution_count": 16,
   "id": "ef1d0acc",
   "metadata": {},
   "outputs": [
    {
     "data": {
      "text/plain": [
       "'Random Sample of 5 rows for Data_Product:'"
      ]
     },
     "metadata": {},
     "output_type": "display_data"
    },
    {
     "data": {
      "text/html": [
       "<div>\n",
       "<style scoped>\n",
       "    .dataframe tbody tr th:only-of-type {\n",
       "        vertical-align: middle;\n",
       "    }\n",
       "\n",
       "    .dataframe tbody tr th {\n",
       "        vertical-align: top;\n",
       "    }\n",
       "\n",
       "    .dataframe thead th {\n",
       "        text-align: right;\n",
       "    }\n",
       "</style>\n",
       "<table border=\"1\" class=\"dataframe\">\n",
       "  <thead>\n",
       "    <tr style=\"text-align: right;\">\n",
       "      <th></th>\n",
       "      <th>product_id</th>\n",
       "      <th>product_name</th>\n",
       "      <th>aisle_id</th>\n",
       "      <th>department_id</th>\n",
       "    </tr>\n",
       "  </thead>\n",
       "  <tbody>\n",
       "    <tr>\n",
       "      <th>21483</th>\n",
       "      <td>21484</td>\n",
       "      <td>Naturals Applewood Smoked Ham Lunchmeat</td>\n",
       "      <td>96</td>\n",
       "      <td>20</td>\n",
       "    </tr>\n",
       "    <tr>\n",
       "      <th>48089</th>\n",
       "      <td>48090</td>\n",
       "      <td>Vanilla Ice Cream with Milk Chocolate</td>\n",
       "      <td>37</td>\n",
       "      <td>1</td>\n",
       "    </tr>\n",
       "    <tr>\n",
       "      <th>27744</th>\n",
       "      <td>27745</td>\n",
       "      <td>Radiant Super Unscented Tampons</td>\n",
       "      <td>126</td>\n",
       "      <td>11</td>\n",
       "    </tr>\n",
       "    <tr>\n",
       "      <th>1614</th>\n",
       "      <td>1615</td>\n",
       "      <td>Organic Light Sodium Creamy Sweet Potato Soup</td>\n",
       "      <td>69</td>\n",
       "      <td>15</td>\n",
       "    </tr>\n",
       "    <tr>\n",
       "      <th>16927</th>\n",
       "      <td>16928</td>\n",
       "      <td>PM Pain Reliever and Nighttime Sleep Aid Caplets</td>\n",
       "      <td>6</td>\n",
       "      <td>2</td>\n",
       "    </tr>\n",
       "  </tbody>\n",
       "</table>\n",
       "</div>"
      ],
      "text/plain": [
       "       product_id                                      product_name  aisle_id  \\\n",
       "21483       21484           Naturals Applewood Smoked Ham Lunchmeat        96   \n",
       "48089       48090             Vanilla Ice Cream with Milk Chocolate        37   \n",
       "27744       27745                   Radiant Super Unscented Tampons       126   \n",
       "1614         1615     Organic Light Sodium Creamy Sweet Potato Soup        69   \n",
       "16927       16928  PM Pain Reliever and Nighttime Sleep Aid Caplets         6   \n",
       "\n",
       "       department_id  \n",
       "21483             20  \n",
       "48089              1  \n",
       "27744             11  \n",
       "1614              15  \n",
       "16927              2  "
      ]
     },
     "metadata": {},
     "output_type": "display_data"
    },
    {
     "data": {
      "text/plain": [
       "'Unique values per column for Data_Product:'"
      ]
     },
     "metadata": {},
     "output_type": "display_data"
    },
    {
     "data": {
      "text/plain": [
       "product_id       49694\n",
       "product_name     48436\n",
       "aisle_id           134\n",
       "department_id       21\n",
       "dtype: int64"
      ]
     },
     "metadata": {},
     "output_type": "display_data"
    },
    {
     "data": {
      "text/plain": [
       "'Value counts per column for Data_Product:'"
      ]
     },
     "metadata": {},
     "output_type": "display_data"
    },
    {
     "data": {
      "text/plain": [
       "product_id  product_name                          aisle_id  department_id\n",
       "49694       BURRITO- STEAK & CHEESE               38        1                1\n",
       "1           Chocolate Sandwich Cookies            61        19               1\n",
       "2           All-Seasons Salt                      104       13               1\n",
       "3           Robust Golden Unsweetened Oolong Tea  94        7                1\n",
       "49678       Large Chicken & Cheese Taquitos       129       1                1\n",
       "                                                                            ..\n",
       "9           Light Strawberry Blueberry Yogurt     120       16               1\n",
       "8           Cut Russet Potatoes Steam N' Mash     116       1                1\n",
       "7           Pure Coconut Water With Orange        98        7                1\n",
       "6           Dry Nose Oil                          11        11               1\n",
       "5           Green Chile Anytime Sauce             5         13               1\n",
       "Name: count, Length: 48436, dtype: int64"
      ]
     },
     "metadata": {},
     "output_type": "display_data"
    }
   ],
   "source": [
    "display('Random Sample of 5 rows for Data_Product:', data_products.sample(n=5))\n",
    "display('Unique values per column for Data_Product:', data_products.nunique())\n",
    "display('Value counts per column for Data_Product:', data_products.value_counts())"
   ]
  },
  {
   "cell_type": "markdown",
   "id": "b4ae058e",
   "metadata": {},
   "source": [
    "**Data_Aisles:**"
   ]
  },
  {
   "cell_type": "code",
   "execution_count": 17,
   "id": "63f205be",
   "metadata": {},
   "outputs": [
    {
     "data": {
      "text/plain": [
       "'Random Sample of 5 rows for Data_Aisles:'"
      ]
     },
     "metadata": {},
     "output_type": "display_data"
    },
    {
     "data": {
      "text/html": [
       "<div>\n",
       "<style scoped>\n",
       "    .dataframe tbody tr th:only-of-type {\n",
       "        vertical-align: middle;\n",
       "    }\n",
       "\n",
       "    .dataframe tbody tr th {\n",
       "        vertical-align: top;\n",
       "    }\n",
       "\n",
       "    .dataframe thead th {\n",
       "        text-align: right;\n",
       "    }\n",
       "</style>\n",
       "<table border=\"1\" class=\"dataframe\">\n",
       "  <thead>\n",
       "    <tr style=\"text-align: right;\">\n",
       "      <th></th>\n",
       "      <th>aisle_id</th>\n",
       "      <th>aisle</th>\n",
       "    </tr>\n",
       "  </thead>\n",
       "  <tbody>\n",
       "    <tr>\n",
       "      <th>6</th>\n",
       "      <td>7</td>\n",
       "      <td>packaged meat</td>\n",
       "    </tr>\n",
       "    <tr>\n",
       "      <th>102</th>\n",
       "      <td>103</td>\n",
       "      <td>ice cream toppings</td>\n",
       "    </tr>\n",
       "    <tr>\n",
       "      <th>122</th>\n",
       "      <td>123</td>\n",
       "      <td>packaged vegetables fruits</td>\n",
       "    </tr>\n",
       "    <tr>\n",
       "      <th>37</th>\n",
       "      <td>38</td>\n",
       "      <td>frozen meals</td>\n",
       "    </tr>\n",
       "    <tr>\n",
       "      <th>106</th>\n",
       "      <td>107</td>\n",
       "      <td>chips pretzels</td>\n",
       "    </tr>\n",
       "  </tbody>\n",
       "</table>\n",
       "</div>"
      ],
      "text/plain": [
       "     aisle_id                       aisle\n",
       "6           7               packaged meat\n",
       "102       103          ice cream toppings\n",
       "122       123  packaged vegetables fruits\n",
       "37         38                frozen meals\n",
       "106       107              chips pretzels"
      ]
     },
     "metadata": {},
     "output_type": "display_data"
    },
    {
     "data": {
      "text/plain": [
       "'Unique values per column for Data_Aisles:'"
      ]
     },
     "metadata": {},
     "output_type": "display_data"
    },
    {
     "data": {
      "text/plain": [
       "aisle_id    134\n",
       "aisle       134\n",
       "dtype: int64"
      ]
     },
     "metadata": {},
     "output_type": "display_data"
    },
    {
     "data": {
      "text/plain": [
       "'Value counts per column for Data_Aisles:'"
      ]
     },
     "metadata": {},
     "output_type": "display_data"
    },
    {
     "data": {
      "text/plain": [
       "aisle_id  aisle                     \n",
       "1         prepared soups salads         1\n",
       "2         specialty cheeses             1\n",
       "3         energy granola bars           1\n",
       "4         instant foods                 1\n",
       "5         marinades meat preparation    1\n",
       "                                       ..\n",
       "130       hot cereal pancake mixes      1\n",
       "131       dry pasta                     1\n",
       "132       beauty                        1\n",
       "133       muscles joints pain relief    1\n",
       "134       specialty wines champagnes    1\n",
       "Name: count, Length: 134, dtype: int64"
      ]
     },
     "metadata": {},
     "output_type": "display_data"
    }
   ],
   "source": [
    "display('Random Sample of 5 rows for Data_Aisles:', data_aisles.sample(n=5))\n",
    "display('Unique values per column for Data_Aisles:', data_aisles.nunique())\n",
    "display('Value counts per column for Data_Aisles:', data_aisles.value_counts())"
   ]
  },
  {
   "cell_type": "markdown",
   "id": "91e3724a",
   "metadata": {},
   "source": [
    "**Data_Departments:**"
   ]
  },
  {
   "cell_type": "code",
   "execution_count": 18,
   "id": "b22fda74",
   "metadata": {},
   "outputs": [
    {
     "data": {
      "text/plain": [
       "'Random Sample of 5 rows for Data_Departments:'"
      ]
     },
     "metadata": {},
     "output_type": "display_data"
    },
    {
     "data": {
      "text/html": [
       "<div>\n",
       "<style scoped>\n",
       "    .dataframe tbody tr th:only-of-type {\n",
       "        vertical-align: middle;\n",
       "    }\n",
       "\n",
       "    .dataframe tbody tr th {\n",
       "        vertical-align: top;\n",
       "    }\n",
       "\n",
       "    .dataframe thead th {\n",
       "        text-align: right;\n",
       "    }\n",
       "</style>\n",
       "<table border=\"1\" class=\"dataframe\">\n",
       "  <thead>\n",
       "    <tr style=\"text-align: right;\">\n",
       "      <th></th>\n",
       "      <th>department_id</th>\n",
       "      <th>department</th>\n",
       "    </tr>\n",
       "  </thead>\n",
       "  <tbody>\n",
       "    <tr>\n",
       "      <th>13</th>\n",
       "      <td>14</td>\n",
       "      <td>breakfast</td>\n",
       "    </tr>\n",
       "    <tr>\n",
       "      <th>1</th>\n",
       "      <td>2</td>\n",
       "      <td>other</td>\n",
       "    </tr>\n",
       "    <tr>\n",
       "      <th>12</th>\n",
       "      <td>13</td>\n",
       "      <td>pantry</td>\n",
       "    </tr>\n",
       "    <tr>\n",
       "      <th>14</th>\n",
       "      <td>15</td>\n",
       "      <td>canned goods</td>\n",
       "    </tr>\n",
       "    <tr>\n",
       "      <th>10</th>\n",
       "      <td>11</td>\n",
       "      <td>personal care</td>\n",
       "    </tr>\n",
       "  </tbody>\n",
       "</table>\n",
       "</div>"
      ],
      "text/plain": [
       "    department_id     department\n",
       "13             14      breakfast\n",
       "1               2          other\n",
       "12             13         pantry\n",
       "14             15   canned goods\n",
       "10             11  personal care"
      ]
     },
     "metadata": {},
     "output_type": "display_data"
    },
    {
     "data": {
      "text/plain": [
       "'Unique values per column for Data_Departments:'"
      ]
     },
     "metadata": {},
     "output_type": "display_data"
    },
    {
     "data": {
      "text/plain": [
       "department_id    21\n",
       "department       21\n",
       "dtype: int64"
      ]
     },
     "metadata": {},
     "output_type": "display_data"
    },
    {
     "data": {
      "text/plain": [
       "'Value counts per column for Data_Departments:'"
      ]
     },
     "metadata": {},
     "output_type": "display_data"
    },
    {
     "data": {
      "text/plain": [
       "department_id  department     \n",
       "1              frozen             1\n",
       "2              other              1\n",
       "3              bakery             1\n",
       "4              produce            1\n",
       "5              alcohol            1\n",
       "6              international      1\n",
       "7              beverages          1\n",
       "8              pets               1\n",
       "9              dry goods pasta    1\n",
       "10             bulk               1\n",
       "11             personal care      1\n",
       "12             meat seafood       1\n",
       "13             pantry             1\n",
       "14             breakfast          1\n",
       "15             canned goods       1\n",
       "16             dairy eggs         1\n",
       "17             household          1\n",
       "18             babies             1\n",
       "19             snacks             1\n",
       "20             deli               1\n",
       "21             missing            1\n",
       "Name: count, dtype: int64"
      ]
     },
     "metadata": {},
     "output_type": "display_data"
    }
   ],
   "source": [
    "display('Random Sample of 5 rows for Data_Departments:', data_departments.sample(n=5))\n",
    "display('Unique values per column for Data_Departments:', data_departments.nunique())\n",
    "display('Value counts per column for Data_Departments:', data_departments.value_counts())"
   ]
  },
  {
   "cell_type": "markdown",
   "id": "3a4d1b45",
   "metadata": {},
   "source": [
    "**Data_Order_Products**"
   ]
  },
  {
   "cell_type": "code",
   "execution_count": 19,
   "id": "685c12eb",
   "metadata": {},
   "outputs": [
    {
     "data": {
      "text/plain": [
       "'Random Sample of 5 rows for Data_Order_Products:'"
      ]
     },
     "metadata": {},
     "output_type": "display_data"
    },
    {
     "data": {
      "text/html": [
       "<div>\n",
       "<style scoped>\n",
       "    .dataframe tbody tr th:only-of-type {\n",
       "        vertical-align: middle;\n",
       "    }\n",
       "\n",
       "    .dataframe tbody tr th {\n",
       "        vertical-align: top;\n",
       "    }\n",
       "\n",
       "    .dataframe thead th {\n",
       "        text-align: right;\n",
       "    }\n",
       "</style>\n",
       "<table border=\"1\" class=\"dataframe\">\n",
       "  <thead>\n",
       "    <tr style=\"text-align: right;\">\n",
       "      <th></th>\n",
       "      <th>order_id</th>\n",
       "      <th>product_id</th>\n",
       "      <th>add_to_cart_order</th>\n",
       "      <th>reordered</th>\n",
       "    </tr>\n",
       "  </thead>\n",
       "  <tbody>\n",
       "    <tr>\n",
       "      <th>3941311</th>\n",
       "      <td>2522088</td>\n",
       "      <td>39408</td>\n",
       "      <td>17.0</td>\n",
       "      <td>1</td>\n",
       "    </tr>\n",
       "    <tr>\n",
       "      <th>3088658</th>\n",
       "      <td>553658</td>\n",
       "      <td>44479</td>\n",
       "      <td>7.0</td>\n",
       "      <td>0</td>\n",
       "    </tr>\n",
       "    <tr>\n",
       "      <th>578621</th>\n",
       "      <td>1997379</td>\n",
       "      <td>48290</td>\n",
       "      <td>7.0</td>\n",
       "      <td>1</td>\n",
       "    </tr>\n",
       "    <tr>\n",
       "      <th>2822971</th>\n",
       "      <td>2084271</td>\n",
       "      <td>8854</td>\n",
       "      <td>4.0</td>\n",
       "      <td>0</td>\n",
       "    </tr>\n",
       "    <tr>\n",
       "      <th>369163</th>\n",
       "      <td>1659480</td>\n",
       "      <td>44359</td>\n",
       "      <td>11.0</td>\n",
       "      <td>0</td>\n",
       "    </tr>\n",
       "  </tbody>\n",
       "</table>\n",
       "</div>"
      ],
      "text/plain": [
       "         order_id  product_id  add_to_cart_order  reordered\n",
       "3941311   2522088       39408               17.0          1\n",
       "3088658    553658       44479                7.0          0\n",
       "578621    1997379       48290                7.0          1\n",
       "2822971   2084271        8854                4.0          0\n",
       "369163    1659480       44359               11.0          0"
      ]
     },
     "metadata": {},
     "output_type": "display_data"
    },
    {
     "data": {
      "text/plain": [
       "'Unique values per column for Data_Order_Products:'"
      ]
     },
     "metadata": {},
     "output_type": "display_data"
    },
    {
     "data": {
      "text/plain": [
       "order_id             450046\n",
       "product_id            45573\n",
       "add_to_cart_order        64\n",
       "reordered                 2\n",
       "dtype: int64"
      ]
     },
     "metadata": {},
     "output_type": "display_data"
    },
    {
     "data": {
      "text/plain": [
       "'Value counts per column for Data_Order_Products:'"
      ]
     },
     "metadata": {},
     "output_type": "display_data"
    },
    {
     "data": {
      "text/plain": [
       "order_id  product_id  add_to_cart_order  reordered\n",
       "3421079   30136       1.0                0            1\n",
       "4         10054       5.0                1            1\n",
       "          17616       10.0               1            1\n",
       "          21351       6.0                1            1\n",
       "          22598       7.0                1            1\n",
       "                                                     ..\n",
       "9         3990        14.0               1            1\n",
       "          2014        4.0                1            1\n",
       "          432         13.0               1            1\n",
       "4         46842       1.0                0            1\n",
       "          41276       13.0               1            1\n",
       "Name: count, Length: 4544171, dtype: int64"
      ]
     },
     "metadata": {},
     "output_type": "display_data"
    }
   ],
   "source": [
    "display('Random Sample of 5 rows for Data_Order_Products:', data_order_products.sample(n=5))\n",
    "display('Unique values per column for Data_Order_Products:', data_order_products.nunique())\n",
    "display('Value counts per column for Data_Order_Products:', data_order_products.value_counts())"
   ]
  },
  {
   "cell_type": "markdown",
   "id": "07357848-dc64-4156-9cc3-01ff4365226d",
   "metadata": {},
   "source": [
    "# Section Four\n",
    "\n",
    "## Find and remove duplicate values (and describe why you make your choices)"
   ]
  },
  {
   "cell_type": "markdown",
   "id": "f179f0a9",
   "metadata": {},
   "source": [
    "### 4.1 `orders` data frame"
   ]
  },
  {
   "cell_type": "markdown",
   "id": "ef295e06",
   "metadata": {},
   "source": [
    "- **Check for duplicated orders**"
   ]
  },
  {
   "cell_type": "code",
   "execution_count": 20,
   "id": "b99297a5-405a-463d-8535-9adc3da4ad74",
   "metadata": {},
   "outputs": [
    {
     "data": {
      "text/plain": [
       "'Duplicate Rows in Data_Insta_Orders:'"
      ]
     },
     "metadata": {},
     "output_type": "display_data"
    },
    {
     "data": {
      "text/html": [
       "<div>\n",
       "<style scoped>\n",
       "    .dataframe tbody tr th:only-of-type {\n",
       "        vertical-align: middle;\n",
       "    }\n",
       "\n",
       "    .dataframe tbody tr th {\n",
       "        vertical-align: top;\n",
       "    }\n",
       "\n",
       "    .dataframe thead th {\n",
       "        text-align: right;\n",
       "    }\n",
       "</style>\n",
       "<table border=\"1\" class=\"dataframe\">\n",
       "  <thead>\n",
       "    <tr style=\"text-align: right;\">\n",
       "      <th></th>\n",
       "      <th>order_id</th>\n",
       "      <th>user_id</th>\n",
       "      <th>order_number</th>\n",
       "      <th>order_dow</th>\n",
       "      <th>order_hour_of_day</th>\n",
       "      <th>days_since_prior_order</th>\n",
       "    </tr>\n",
       "  </thead>\n",
       "  <tbody>\n",
       "    <tr>\n",
       "      <th>145574</th>\n",
       "      <td>794638</td>\n",
       "      <td>50898</td>\n",
       "      <td>24</td>\n",
       "      <td>3</td>\n",
       "      <td>2</td>\n",
       "      <td>2.0</td>\n",
       "    </tr>\n",
       "    <tr>\n",
       "      <th>223105</th>\n",
       "      <td>2160484</td>\n",
       "      <td>107525</td>\n",
       "      <td>16</td>\n",
       "      <td>3</td>\n",
       "      <td>2</td>\n",
       "      <td>30.0</td>\n",
       "    </tr>\n",
       "    <tr>\n",
       "      <th>230807</th>\n",
       "      <td>1918001</td>\n",
       "      <td>188546</td>\n",
       "      <td>14</td>\n",
       "      <td>3</td>\n",
       "      <td>2</td>\n",
       "      <td>16.0</td>\n",
       "    </tr>\n",
       "    <tr>\n",
       "      <th>266232</th>\n",
       "      <td>1782114</td>\n",
       "      <td>106752</td>\n",
       "      <td>1</td>\n",
       "      <td>3</td>\n",
       "      <td>2</td>\n",
       "      <td>NaN</td>\n",
       "    </tr>\n",
       "    <tr>\n",
       "      <th>273805</th>\n",
       "      <td>1112182</td>\n",
       "      <td>202304</td>\n",
       "      <td>84</td>\n",
       "      <td>3</td>\n",
       "      <td>2</td>\n",
       "      <td>6.0</td>\n",
       "    </tr>\n",
       "    <tr>\n",
       "      <th>284038</th>\n",
       "      <td>2845099</td>\n",
       "      <td>31189</td>\n",
       "      <td>11</td>\n",
       "      <td>3</td>\n",
       "      <td>2</td>\n",
       "      <td>7.0</td>\n",
       "    </tr>\n",
       "    <tr>\n",
       "      <th>311713</th>\n",
       "      <td>1021560</td>\n",
       "      <td>53767</td>\n",
       "      <td>3</td>\n",
       "      <td>3</td>\n",
       "      <td>2</td>\n",
       "      <td>9.0</td>\n",
       "    </tr>\n",
       "    <tr>\n",
       "      <th>321100</th>\n",
       "      <td>408114</td>\n",
       "      <td>68324</td>\n",
       "      <td>4</td>\n",
       "      <td>3</td>\n",
       "      <td>2</td>\n",
       "      <td>18.0</td>\n",
       "    </tr>\n",
       "    <tr>\n",
       "      <th>323900</th>\n",
       "      <td>1919531</td>\n",
       "      <td>191501</td>\n",
       "      <td>32</td>\n",
       "      <td>3</td>\n",
       "      <td>2</td>\n",
       "      <td>7.0</td>\n",
       "    </tr>\n",
       "    <tr>\n",
       "      <th>345917</th>\n",
       "      <td>2232988</td>\n",
       "      <td>82565</td>\n",
       "      <td>1</td>\n",
       "      <td>3</td>\n",
       "      <td>2</td>\n",
       "      <td>NaN</td>\n",
       "    </tr>\n",
       "    <tr>\n",
       "      <th>371905</th>\n",
       "      <td>391768</td>\n",
       "      <td>57671</td>\n",
       "      <td>19</td>\n",
       "      <td>3</td>\n",
       "      <td>2</td>\n",
       "      <td>10.0</td>\n",
       "    </tr>\n",
       "    <tr>\n",
       "      <th>394347</th>\n",
       "      <td>467134</td>\n",
       "      <td>63189</td>\n",
       "      <td>21</td>\n",
       "      <td>3</td>\n",
       "      <td>2</td>\n",
       "      <td>2.0</td>\n",
       "    </tr>\n",
       "    <tr>\n",
       "      <th>411408</th>\n",
       "      <td>1286742</td>\n",
       "      <td>183220</td>\n",
       "      <td>48</td>\n",
       "      <td>3</td>\n",
       "      <td>2</td>\n",
       "      <td>4.0</td>\n",
       "    </tr>\n",
       "    <tr>\n",
       "      <th>415163</th>\n",
       "      <td>2282673</td>\n",
       "      <td>86751</td>\n",
       "      <td>49</td>\n",
       "      <td>3</td>\n",
       "      <td>2</td>\n",
       "      <td>2.0</td>\n",
       "    </tr>\n",
       "    <tr>\n",
       "      <th>441599</th>\n",
       "      <td>2125197</td>\n",
       "      <td>14050</td>\n",
       "      <td>48</td>\n",
       "      <td>3</td>\n",
       "      <td>2</td>\n",
       "      <td>3.0</td>\n",
       "    </tr>\n",
       "  </tbody>\n",
       "</table>\n",
       "</div>"
      ],
      "text/plain": [
       "        order_id  user_id  order_number  order_dow  order_hour_of_day  \\\n",
       "145574    794638    50898            24          3                  2   \n",
       "223105   2160484   107525            16          3                  2   \n",
       "230807   1918001   188546            14          3                  2   \n",
       "266232   1782114   106752             1          3                  2   \n",
       "273805   1112182   202304            84          3                  2   \n",
       "284038   2845099    31189            11          3                  2   \n",
       "311713   1021560    53767             3          3                  2   \n",
       "321100    408114    68324             4          3                  2   \n",
       "323900   1919531   191501            32          3                  2   \n",
       "345917   2232988    82565             1          3                  2   \n",
       "371905    391768    57671            19          3                  2   \n",
       "394347    467134    63189            21          3                  2   \n",
       "411408   1286742   183220            48          3                  2   \n",
       "415163   2282673    86751            49          3                  2   \n",
       "441599   2125197    14050            48          3                  2   \n",
       "\n",
       "        days_since_prior_order  \n",
       "145574                     2.0  \n",
       "223105                    30.0  \n",
       "230807                    16.0  \n",
       "266232                     NaN  \n",
       "273805                     6.0  \n",
       "284038                     7.0  \n",
       "311713                     9.0  \n",
       "321100                    18.0  \n",
       "323900                     7.0  \n",
       "345917                     NaN  \n",
       "371905                    10.0  \n",
       "394347                     2.0  \n",
       "411408                     4.0  \n",
       "415163                     2.0  \n",
       "441599                     3.0  "
      ]
     },
     "metadata": {},
     "output_type": "display_data"
    },
    {
     "data": {
      "text/plain": [
       "'Count of Duplicate Rows: 15'"
      ]
     },
     "metadata": {},
     "output_type": "display_data"
    }
   ],
   "source": [
    "duplicates_insta_orders = data_insta_orders[data_insta_orders.duplicated()]\n",
    "count_duplicates_insta_orders = data_insta_orders.duplicated().sum()\n",
    "\n",
    "display('Duplicate Rows in Data_Insta_Orders:', duplicates_insta_orders)\n",
    "display(f\"Count of Duplicate Rows: {count_duplicates_insta_orders}\")"
   ]
  },
  {
   "cell_type": "code",
   "execution_count": 21,
   "id": "86f37fbb",
   "metadata": {},
   "outputs": [
    {
     "name": "stdout",
     "output_type": "stream",
     "text": [
      "\n",
      "Summary of Duplicates:\n",
      "\n"
     ]
    },
    {
     "data": {
      "text/plain": [
       "order_id\n",
       "391768     1\n",
       "408114     1\n",
       "467134     1\n",
       "794638     1\n",
       "1021560    1\n",
       "1112182    1\n",
       "1286742    1\n",
       "1782114    1\n",
       "1918001    1\n",
       "1919531    1\n",
       "2125197    1\n",
       "2160484    1\n",
       "2232988    1\n",
       "2282673    1\n",
       "2845099    1\n",
       "dtype: int64"
      ]
     },
     "metadata": {},
     "output_type": "display_data"
    }
   ],
   "source": [
    "print(\"\\nSummary of Duplicates:\\n\")\n",
    "display(duplicates_insta_orders.groupby('order_id').size())"
   ]
  },
  {
   "cell_type": "markdown",
   "id": "13f9ca34",
   "metadata": {},
   "source": [
    " **Duplicate Row Frequency Analysis**\n",
    "\n",
    "- Duplicate Count Discrepancy (13 vs 15 groups)\n",
    "\n",
    "  - NaN Handling: Grouping may process null values differently than .duplicated()\n",
    "  - Data Type Impact: Type/precision differences can affect row matching\n",
    "  - Method Differences: .duplicated() flags first occurrence while groupby matches exact values\"\n"
   ]
  },
  {
   "cell_type": "code",
   "execution_count": 22,
   "id": "861aca31",
   "metadata": {},
   "outputs": [
    {
     "data": {
      "text/html": [
       "<div>\n",
       "<style scoped>\n",
       "    .dataframe tbody tr th:only-of-type {\n",
       "        vertical-align: middle;\n",
       "    }\n",
       "\n",
       "    .dataframe tbody tr th {\n",
       "        vertical-align: top;\n",
       "    }\n",
       "\n",
       "    .dataframe thead th {\n",
       "        text-align: right;\n",
       "    }\n",
       "</style>\n",
       "<table border=\"1\" class=\"dataframe\">\n",
       "  <thead>\n",
       "    <tr style=\"text-align: right;\">\n",
       "      <th></th>\n",
       "      <th>order_id</th>\n",
       "      <th>user_id</th>\n",
       "      <th>order_number</th>\n",
       "      <th>order_dow</th>\n",
       "      <th>order_hour_of_day</th>\n",
       "      <th>days_since_prior_order</th>\n",
       "      <th>frequency</th>\n",
       "    </tr>\n",
       "  </thead>\n",
       "  <tbody>\n",
       "    <tr>\n",
       "      <th>51362</th>\n",
       "      <td>391768</td>\n",
       "      <td>57671</td>\n",
       "      <td>19</td>\n",
       "      <td>3</td>\n",
       "      <td>2</td>\n",
       "      <td>10.0</td>\n",
       "      <td>2</td>\n",
       "    </tr>\n",
       "    <tr>\n",
       "      <th>53477</th>\n",
       "      <td>408114</td>\n",
       "      <td>68324</td>\n",
       "      <td>4</td>\n",
       "      <td>3</td>\n",
       "      <td>2</td>\n",
       "      <td>18.0</td>\n",
       "      <td>2</td>\n",
       "    </tr>\n",
       "    <tr>\n",
       "      <th>61408</th>\n",
       "      <td>467134</td>\n",
       "      <td>63189</td>\n",
       "      <td>21</td>\n",
       "      <td>3</td>\n",
       "      <td>2</td>\n",
       "      <td>2.0</td>\n",
       "      <td>2</td>\n",
       "    </tr>\n",
       "    <tr>\n",
       "      <th>104429</th>\n",
       "      <td>794638</td>\n",
       "      <td>50898</td>\n",
       "      <td>24</td>\n",
       "      <td>3</td>\n",
       "      <td>2</td>\n",
       "      <td>2.0</td>\n",
       "      <td>2</td>\n",
       "    </tr>\n",
       "    <tr>\n",
       "      <th>134283</th>\n",
       "      <td>1021560</td>\n",
       "      <td>53767</td>\n",
       "      <td>3</td>\n",
       "      <td>3</td>\n",
       "      <td>2</td>\n",
       "      <td>9.0</td>\n",
       "      <td>2</td>\n",
       "    </tr>\n",
       "    <tr>\n",
       "      <th>146129</th>\n",
       "      <td>1112182</td>\n",
       "      <td>202304</td>\n",
       "      <td>84</td>\n",
       "      <td>3</td>\n",
       "      <td>2</td>\n",
       "      <td>6.0</td>\n",
       "      <td>2</td>\n",
       "    </tr>\n",
       "    <tr>\n",
       "      <th>169123</th>\n",
       "      <td>1286742</td>\n",
       "      <td>183220</td>\n",
       "      <td>48</td>\n",
       "      <td>3</td>\n",
       "      <td>2</td>\n",
       "      <td>4.0</td>\n",
       "      <td>2</td>\n",
       "    </tr>\n",
       "    <tr>\n",
       "      <th>252715</th>\n",
       "      <td>1918001</td>\n",
       "      <td>188546</td>\n",
       "      <td>14</td>\n",
       "      <td>3</td>\n",
       "      <td>2</td>\n",
       "      <td>16.0</td>\n",
       "      <td>2</td>\n",
       "    </tr>\n",
       "    <tr>\n",
       "      <th>252919</th>\n",
       "      <td>1919531</td>\n",
       "      <td>191501</td>\n",
       "      <td>32</td>\n",
       "      <td>3</td>\n",
       "      <td>2</td>\n",
       "      <td>7.0</td>\n",
       "      <td>2</td>\n",
       "    </tr>\n",
       "    <tr>\n",
       "      <th>279901</th>\n",
       "      <td>2125197</td>\n",
       "      <td>14050</td>\n",
       "      <td>48</td>\n",
       "      <td>3</td>\n",
       "      <td>2</td>\n",
       "      <td>3.0</td>\n",
       "      <td>2</td>\n",
       "    </tr>\n",
       "    <tr>\n",
       "      <th>284579</th>\n",
       "      <td>2160484</td>\n",
       "      <td>107525</td>\n",
       "      <td>16</td>\n",
       "      <td>3</td>\n",
       "      <td>2</td>\n",
       "      <td>30.0</td>\n",
       "      <td>2</td>\n",
       "    </tr>\n",
       "    <tr>\n",
       "      <th>300606</th>\n",
       "      <td>2282673</td>\n",
       "      <td>86751</td>\n",
       "      <td>49</td>\n",
       "      <td>3</td>\n",
       "      <td>2</td>\n",
       "      <td>2.0</td>\n",
       "      <td>2</td>\n",
       "    </tr>\n",
       "    <tr>\n",
       "      <th>374568</th>\n",
       "      <td>2845099</td>\n",
       "      <td>31189</td>\n",
       "      <td>11</td>\n",
       "      <td>3</td>\n",
       "      <td>2</td>\n",
       "      <td>7.0</td>\n",
       "      <td>2</td>\n",
       "    </tr>\n",
       "  </tbody>\n",
       "</table>\n",
       "</div>"
      ],
      "text/plain": [
       "        order_id  user_id  order_number  order_dow  order_hour_of_day  \\\n",
       "51362     391768    57671            19          3                  2   \n",
       "53477     408114    68324             4          3                  2   \n",
       "61408     467134    63189            21          3                  2   \n",
       "104429    794638    50898            24          3                  2   \n",
       "134283   1021560    53767             3          3                  2   \n",
       "146129   1112182   202304            84          3                  2   \n",
       "169123   1286742   183220            48          3                  2   \n",
       "252715   1918001   188546            14          3                  2   \n",
       "252919   1919531   191501            32          3                  2   \n",
       "279901   2125197    14050            48          3                  2   \n",
       "284579   2160484   107525            16          3                  2   \n",
       "300606   2282673    86751            49          3                  2   \n",
       "374568   2845099    31189            11          3                  2   \n",
       "\n",
       "        days_since_prior_order  frequency  \n",
       "51362                     10.0          2  \n",
       "53477                     18.0          2  \n",
       "61408                      2.0          2  \n",
       "104429                     2.0          2  \n",
       "134283                     9.0          2  \n",
       "146129                     6.0          2  \n",
       "169123                     4.0          2  \n",
       "252715                    16.0          2  \n",
       "252919                     7.0          2  \n",
       "279901                     3.0          2  \n",
       "284579                    30.0          2  \n",
       "300606                     2.0          2  \n",
       "374568                     7.0          2  "
      ]
     },
     "metadata": {},
     "output_type": "display_data"
    }
   ],
   "source": [
    "row_frequency = data_insta_orders.groupby(list(data_insta_orders.columns)).size().reset_index(name='frequency')\n",
    "display(row_frequency[row_frequency['frequency'] > 1])"
   ]
  },
  {
   "cell_type": "markdown",
   "id": "1127ca26",
   "metadata": {},
   "source": [
    "**Check for all orders placed Wednesday at 2:00 AM**\n",
    "- Following the method from Chapter 5 (Sprint 2), two logical conditions were applied to filter for orders on a specific day and time\n",
    "  - display variable checking sum of all orders placed Wednesday at 2:00 AM"
   ]
  },
  {
   "cell_type": "code",
   "execution_count": 23,
   "id": "0d44de5d",
   "metadata": {},
   "outputs": [
    {
     "name": "stdout",
     "output_type": "stream",
     "text": [
      "\n",
      "Total Number of orders placed Wednesday at 2:00 AM:\n",
      "\n"
     ]
    },
    {
     "data": {
      "text/plain": [
       "np.int64(121)"
      ]
     },
     "metadata": {},
     "output_type": "display_data"
    }
   ],
   "source": [
    "Early_Wed_Orders = ((data_insta_orders['order_dow'] == 3) & (data_insta_orders['order_hour_of_day'] == 2)).sum()\n",
    "print(\"\\nTotal Number of orders placed Wednesday at 2:00 AM:\\n\")\n",
    "display(Early_Wed_Orders)"
   ]
  },
  {
   "cell_type": "markdown",
   "id": "5899f45e",
   "metadata": {},
   "source": [
    "**Remove duplicate orders**\n",
    "\n",
    "- using .drop_duplicated()\n",
    "  - Removed any duplicate rows from data_insta_orders and updated the DataFrame to only include unique rows\n",
    "  - display the updated data_insta_orders DataFrame, without duplicates, to confirm the result\n",
    "  - Removing duplicates reduced the dataset from 478,967 to 478,962 rows"
   ]
  },
  {
   "cell_type": "code",
   "execution_count": 24,
   "id": "480563c7",
   "metadata": {},
   "outputs": [
    {
     "name": "stdout",
     "output_type": "stream",
     "text": [
      "\n",
      "Data without duplicates:\n",
      "\n"
     ]
    },
    {
     "data": {
      "text/html": [
       "<div>\n",
       "<style scoped>\n",
       "    .dataframe tbody tr th:only-of-type {\n",
       "        vertical-align: middle;\n",
       "    }\n",
       "\n",
       "    .dataframe tbody tr th {\n",
       "        vertical-align: top;\n",
       "    }\n",
       "\n",
       "    .dataframe thead th {\n",
       "        text-align: right;\n",
       "    }\n",
       "</style>\n",
       "<table border=\"1\" class=\"dataframe\">\n",
       "  <thead>\n",
       "    <tr style=\"text-align: right;\">\n",
       "      <th></th>\n",
       "      <th>order_id</th>\n",
       "      <th>user_id</th>\n",
       "      <th>order_number</th>\n",
       "      <th>order_dow</th>\n",
       "      <th>order_hour_of_day</th>\n",
       "      <th>days_since_prior_order</th>\n",
       "    </tr>\n",
       "  </thead>\n",
       "  <tbody>\n",
       "    <tr>\n",
       "      <th>0</th>\n",
       "      <td>1515936</td>\n",
       "      <td>183418</td>\n",
       "      <td>11</td>\n",
       "      <td>6</td>\n",
       "      <td>13</td>\n",
       "      <td>30.0</td>\n",
       "    </tr>\n",
       "    <tr>\n",
       "      <th>1</th>\n",
       "      <td>1690866</td>\n",
       "      <td>163593</td>\n",
       "      <td>5</td>\n",
       "      <td>5</td>\n",
       "      <td>12</td>\n",
       "      <td>9.0</td>\n",
       "    </tr>\n",
       "    <tr>\n",
       "      <th>2</th>\n",
       "      <td>1454967</td>\n",
       "      <td>39980</td>\n",
       "      <td>4</td>\n",
       "      <td>5</td>\n",
       "      <td>19</td>\n",
       "      <td>2.0</td>\n",
       "    </tr>\n",
       "    <tr>\n",
       "      <th>3</th>\n",
       "      <td>1768857</td>\n",
       "      <td>82516</td>\n",
       "      <td>56</td>\n",
       "      <td>0</td>\n",
       "      <td>20</td>\n",
       "      <td>10.0</td>\n",
       "    </tr>\n",
       "    <tr>\n",
       "      <th>4</th>\n",
       "      <td>3007858</td>\n",
       "      <td>196724</td>\n",
       "      <td>2</td>\n",
       "      <td>4</td>\n",
       "      <td>12</td>\n",
       "      <td>17.0</td>\n",
       "    </tr>\n",
       "    <tr>\n",
       "      <th>...</th>\n",
       "      <td>...</td>\n",
       "      <td>...</td>\n",
       "      <td>...</td>\n",
       "      <td>...</td>\n",
       "      <td>...</td>\n",
       "      <td>...</td>\n",
       "    </tr>\n",
       "    <tr>\n",
       "      <th>478962</th>\n",
       "      <td>3210681</td>\n",
       "      <td>5617</td>\n",
       "      <td>5</td>\n",
       "      <td>1</td>\n",
       "      <td>14</td>\n",
       "      <td>7.0</td>\n",
       "    </tr>\n",
       "    <tr>\n",
       "      <th>478963</th>\n",
       "      <td>3270802</td>\n",
       "      <td>112087</td>\n",
       "      <td>2</td>\n",
       "      <td>3</td>\n",
       "      <td>13</td>\n",
       "      <td>6.0</td>\n",
       "    </tr>\n",
       "    <tr>\n",
       "      <th>478964</th>\n",
       "      <td>885349</td>\n",
       "      <td>82944</td>\n",
       "      <td>16</td>\n",
       "      <td>2</td>\n",
       "      <td>11</td>\n",
       "      <td>6.0</td>\n",
       "    </tr>\n",
       "    <tr>\n",
       "      <th>478965</th>\n",
       "      <td>216274</td>\n",
       "      <td>4391</td>\n",
       "      <td>3</td>\n",
       "      <td>3</td>\n",
       "      <td>8</td>\n",
       "      <td>8.0</td>\n",
       "    </tr>\n",
       "    <tr>\n",
       "      <th>478966</th>\n",
       "      <td>2071924</td>\n",
       "      <td>1730</td>\n",
       "      <td>18</td>\n",
       "      <td>1</td>\n",
       "      <td>14</td>\n",
       "      <td>15.0</td>\n",
       "    </tr>\n",
       "  </tbody>\n",
       "</table>\n",
       "<p>478952 rows × 6 columns</p>\n",
       "</div>"
      ],
      "text/plain": [
       "        order_id  user_id  order_number  order_dow  order_hour_of_day  \\\n",
       "0        1515936   183418            11          6                 13   \n",
       "1        1690866   163593             5          5                 12   \n",
       "2        1454967    39980             4          5                 19   \n",
       "3        1768857    82516            56          0                 20   \n",
       "4        3007858   196724             2          4                 12   \n",
       "...          ...      ...           ...        ...                ...   \n",
       "478962   3210681     5617             5          1                 14   \n",
       "478963   3270802   112087             2          3                 13   \n",
       "478964    885349    82944            16          2                 11   \n",
       "478965    216274     4391             3          3                  8   \n",
       "478966   2071924     1730            18          1                 14   \n",
       "\n",
       "        days_since_prior_order  \n",
       "0                         30.0  \n",
       "1                          9.0  \n",
       "2                          2.0  \n",
       "3                         10.0  \n",
       "4                         17.0  \n",
       "...                        ...  \n",
       "478962                     7.0  \n",
       "478963                     6.0  \n",
       "478964                     6.0  \n",
       "478965                     8.0  \n",
       "478966                    15.0  \n",
       "\n",
       "[478952 rows x 6 columns]"
      ]
     },
     "metadata": {},
     "output_type": "display_data"
    }
   ],
   "source": [
    "data_insta_orders = data_insta_orders.drop_duplicates()\n",
    "print(\"\\nData without duplicates:\\n\")\n",
    "display(data_insta_orders)"
   ]
  },
  {
   "cell_type": "markdown",
   "id": "e232be31",
   "metadata": {},
   "source": [
    "**This line data_insta_orders = data_insta_orders.drop_duplicates() only removed the subsequent duplicate rows, keeping the first occurrence of each set of duplicates.**\n",
    "**The following code using .drop_duplicates with the keep=False parameter removes all duplicates**\n",
    "- Initial drop_dulicates() did not specify any parameters"
   ]
  },
  {
   "cell_type": "code",
   "execution_count": 25,
   "id": "1f53a3ce",
   "metadata": {},
   "outputs": [
    {
     "name": "stdout",
     "output_type": "stream",
     "text": [
      "\n",
      "Removing remaining duplicates:\n",
      "\n"
     ]
    },
    {
     "data": {
      "text/html": [
       "<div>\n",
       "<style scoped>\n",
       "    .dataframe tbody tr th:only-of-type {\n",
       "        vertical-align: middle;\n",
       "    }\n",
       "\n",
       "    .dataframe tbody tr th {\n",
       "        vertical-align: top;\n",
       "    }\n",
       "\n",
       "    .dataframe thead th {\n",
       "        text-align: right;\n",
       "    }\n",
       "</style>\n",
       "<table border=\"1\" class=\"dataframe\">\n",
       "  <thead>\n",
       "    <tr style=\"text-align: right;\">\n",
       "      <th></th>\n",
       "      <th>order_id</th>\n",
       "      <th>user_id</th>\n",
       "      <th>order_number</th>\n",
       "      <th>order_dow</th>\n",
       "      <th>order_hour_of_day</th>\n",
       "      <th>days_since_prior_order</th>\n",
       "    </tr>\n",
       "  </thead>\n",
       "  <tbody>\n",
       "    <tr>\n",
       "      <th>0</th>\n",
       "      <td>1515936</td>\n",
       "      <td>183418</td>\n",
       "      <td>11</td>\n",
       "      <td>6</td>\n",
       "      <td>13</td>\n",
       "      <td>30.0</td>\n",
       "    </tr>\n",
       "    <tr>\n",
       "      <th>1</th>\n",
       "      <td>1690866</td>\n",
       "      <td>163593</td>\n",
       "      <td>5</td>\n",
       "      <td>5</td>\n",
       "      <td>12</td>\n",
       "      <td>9.0</td>\n",
       "    </tr>\n",
       "    <tr>\n",
       "      <th>2</th>\n",
       "      <td>1454967</td>\n",
       "      <td>39980</td>\n",
       "      <td>4</td>\n",
       "      <td>5</td>\n",
       "      <td>19</td>\n",
       "      <td>2.0</td>\n",
       "    </tr>\n",
       "    <tr>\n",
       "      <th>3</th>\n",
       "      <td>1768857</td>\n",
       "      <td>82516</td>\n",
       "      <td>56</td>\n",
       "      <td>0</td>\n",
       "      <td>20</td>\n",
       "      <td>10.0</td>\n",
       "    </tr>\n",
       "    <tr>\n",
       "      <th>4</th>\n",
       "      <td>3007858</td>\n",
       "      <td>196724</td>\n",
       "      <td>2</td>\n",
       "      <td>4</td>\n",
       "      <td>12</td>\n",
       "      <td>17.0</td>\n",
       "    </tr>\n",
       "    <tr>\n",
       "      <th>...</th>\n",
       "      <td>...</td>\n",
       "      <td>...</td>\n",
       "      <td>...</td>\n",
       "      <td>...</td>\n",
       "      <td>...</td>\n",
       "      <td>...</td>\n",
       "    </tr>\n",
       "    <tr>\n",
       "      <th>478962</th>\n",
       "      <td>3210681</td>\n",
       "      <td>5617</td>\n",
       "      <td>5</td>\n",
       "      <td>1</td>\n",
       "      <td>14</td>\n",
       "      <td>7.0</td>\n",
       "    </tr>\n",
       "    <tr>\n",
       "      <th>478963</th>\n",
       "      <td>3270802</td>\n",
       "      <td>112087</td>\n",
       "      <td>2</td>\n",
       "      <td>3</td>\n",
       "      <td>13</td>\n",
       "      <td>6.0</td>\n",
       "    </tr>\n",
       "    <tr>\n",
       "      <th>478964</th>\n",
       "      <td>885349</td>\n",
       "      <td>82944</td>\n",
       "      <td>16</td>\n",
       "      <td>2</td>\n",
       "      <td>11</td>\n",
       "      <td>6.0</td>\n",
       "    </tr>\n",
       "    <tr>\n",
       "      <th>478965</th>\n",
       "      <td>216274</td>\n",
       "      <td>4391</td>\n",
       "      <td>3</td>\n",
       "      <td>3</td>\n",
       "      <td>8</td>\n",
       "      <td>8.0</td>\n",
       "    </tr>\n",
       "    <tr>\n",
       "      <th>478966</th>\n",
       "      <td>2071924</td>\n",
       "      <td>1730</td>\n",
       "      <td>18</td>\n",
       "      <td>1</td>\n",
       "      <td>14</td>\n",
       "      <td>15.0</td>\n",
       "    </tr>\n",
       "  </tbody>\n",
       "</table>\n",
       "<p>478952 rows × 6 columns</p>\n",
       "</div>"
      ],
      "text/plain": [
       "        order_id  user_id  order_number  order_dow  order_hour_of_day  \\\n",
       "0        1515936   183418            11          6                 13   \n",
       "1        1690866   163593             5          5                 12   \n",
       "2        1454967    39980             4          5                 19   \n",
       "3        1768857    82516            56          0                 20   \n",
       "4        3007858   196724             2          4                 12   \n",
       "...          ...      ...           ...        ...                ...   \n",
       "478962   3210681     5617             5          1                 14   \n",
       "478963   3270802   112087             2          3                 13   \n",
       "478964    885349    82944            16          2                 11   \n",
       "478965    216274     4391             3          3                  8   \n",
       "478966   2071924     1730            18          1                 14   \n",
       "\n",
       "        days_since_prior_order  \n",
       "0                         30.0  \n",
       "1                          9.0  \n",
       "2                          2.0  \n",
       "3                         10.0  \n",
       "4                         17.0  \n",
       "...                        ...  \n",
       "478962                     7.0  \n",
       "478963                     6.0  \n",
       "478964                     6.0  \n",
       "478965                     8.0  \n",
       "478966                    15.0  \n",
       "\n",
       "[478952 rows x 6 columns]"
      ]
     },
     "metadata": {},
     "output_type": "display_data"
    }
   ],
   "source": [
    "data_insta_orders.drop_duplicates(keep=False, inplace=True)\n",
    "print(\"\\nRemoving remaining duplicates:\\n\")\n",
    "display(data_insta_orders)"
   ]
  },
  {
   "cell_type": "markdown",
   "id": "8b3357d4",
   "metadata": {},
   "source": [
    "**Double check for duplicate rows**"
   ]
  },
  {
   "cell_type": "code",
   "execution_count": 26,
   "id": "0b2396a2",
   "metadata": {},
   "outputs": [
    {
     "name": "stdout",
     "output_type": "stream",
     "text": [
      "\n",
      "Total Number of Duplicates:\n",
      "\n"
     ]
    },
    {
     "data": {
      "text/plain": [
       "np.int64(0)"
      ]
     },
     "metadata": {},
     "output_type": "display_data"
    }
   ],
   "source": [
    "print(\"\\nTotal Number of Duplicates:\\n\")\n",
    "display(data_insta_orders.duplicated().sum())"
   ]
  },
  {
   "cell_type": "markdown",
   "id": "7e71ede7",
   "metadata": {},
   "source": [
    "**Double check for duplicate order IDs only**"
   ]
  },
  {
   "cell_type": "code",
   "execution_count": 27,
   "id": "f6113ef1",
   "metadata": {},
   "outputs": [
    {
     "name": "stdout",
     "output_type": "stream",
     "text": [
      "\n",
      "Total Number of Duplicates:\n",
      "\n"
     ]
    },
    {
     "data": {
      "text/plain": [
       "np.int64(0)"
      ]
     },
     "metadata": {},
     "output_type": "display_data"
    }
   ],
   "source": [
    "print(\"\\nTotal Number of Duplicates:\\n\")\n",
    "display(data_insta_orders.duplicated(subset='order_id').sum())"
   ]
  },
  {
   "cell_type": "markdown",
   "id": "5e8905ae",
   "metadata": {},
   "source": []
  },
  {
   "cell_type": "markdown",
   "id": "45e6bc46",
   "metadata": {},
   "source": [
    "### 4.2 `products` data frame"
   ]
  },
  {
   "cell_type": "markdown",
   "id": "379f0ec5",
   "metadata": {},
   "source": [
    "**Check for fully duplicate rows**"
   ]
  },
  {
   "cell_type": "code",
   "execution_count": 28,
   "id": "5f526b5b-8175-46fa-a0fd-441767d50e64",
   "metadata": {},
   "outputs": [
    {
     "data": {
      "text/plain": [
       "'Duplicate Rows in Data_Products:'"
      ]
     },
     "metadata": {},
     "output_type": "display_data"
    },
    {
     "data": {
      "text/html": [
       "<div>\n",
       "<style scoped>\n",
       "    .dataframe tbody tr th:only-of-type {\n",
       "        vertical-align: middle;\n",
       "    }\n",
       "\n",
       "    .dataframe tbody tr th {\n",
       "        vertical-align: top;\n",
       "    }\n",
       "\n",
       "    .dataframe thead th {\n",
       "        text-align: right;\n",
       "    }\n",
       "</style>\n",
       "<table border=\"1\" class=\"dataframe\">\n",
       "  <thead>\n",
       "    <tr style=\"text-align: right;\">\n",
       "      <th></th>\n",
       "      <th>product_id</th>\n",
       "      <th>product_name</th>\n",
       "      <th>aisle_id</th>\n",
       "      <th>department_id</th>\n",
       "    </tr>\n",
       "  </thead>\n",
       "  <tbody>\n",
       "  </tbody>\n",
       "</table>\n",
       "</div>"
      ],
      "text/plain": [
       "Empty DataFrame\n",
       "Columns: [product_id, product_name, aisle_id, department_id]\n",
       "Index: []"
      ]
     },
     "metadata": {},
     "output_type": "display_data"
    },
    {
     "data": {
      "text/plain": [
       "'Count of Duplicate Rows: 0'"
      ]
     },
     "metadata": {},
     "output_type": "display_data"
    }
   ],
   "source": [
    "duplicates_data_products = data_products[data_products.duplicated()]\n",
    "count_duplicates_data_products = data_products.duplicated().sum()\n",
    "\n",
    "display('Duplicate Rows in Data_Products:', duplicates_data_products)\n",
    "display(f\"Count of Duplicate Rows: {count_duplicates_data_products}\")"
   ]
  },
  {
   "cell_type": "markdown",
   "id": "e92a9fd8",
   "metadata": {},
   "source": [
    "**Check for just duplicate product IDs**"
   ]
  },
  {
   "cell_type": "code",
   "execution_count": 29,
   "id": "88daa4f4",
   "metadata": {},
   "outputs": [
    {
     "name": "stdout",
     "output_type": "stream",
     "text": [
      "\n",
      "Total Number of Duplicates:\n",
      "\n"
     ]
    },
    {
     "data": {
      "text/plain": [
       "np.int64(0)"
      ]
     },
     "metadata": {},
     "output_type": "display_data"
    }
   ],
   "source": [
    "print(\"\\nTotal Number of Duplicates:\\n\")\n",
    "display(data_products.duplicated(subset='product_id').sum())"
   ]
  },
  {
   "cell_type": "markdown",
   "id": "f6f2fa15",
   "metadata": {},
   "source": [
    "**Check for just duplicate product names (convert names to lowercase to compare better)**"
   ]
  },
  {
   "cell_type": "code",
   "execution_count": 30,
   "id": "c773f0bf",
   "metadata": {},
   "outputs": [
    {
     "data": {
      "text/html": [
       "<div>\n",
       "<style scoped>\n",
       "    .dataframe tbody tr th:only-of-type {\n",
       "        vertical-align: middle;\n",
       "    }\n",
       "\n",
       "    .dataframe tbody tr th {\n",
       "        vertical-align: top;\n",
       "    }\n",
       "\n",
       "    .dataframe thead th {\n",
       "        text-align: right;\n",
       "    }\n",
       "</style>\n",
       "<table border=\"1\" class=\"dataframe\">\n",
       "  <thead>\n",
       "    <tr style=\"text-align: right;\">\n",
       "      <th></th>\n",
       "      <th>product_id</th>\n",
       "      <th>product_name</th>\n",
       "      <th>aisle_id</th>\n",
       "      <th>department_id</th>\n",
       "    </tr>\n",
       "  </thead>\n",
       "  <tbody>\n",
       "    <tr>\n",
       "      <th>71</th>\n",
       "      <td>72</td>\n",
       "      <td>NaN</td>\n",
       "      <td>100</td>\n",
       "      <td>21</td>\n",
       "    </tr>\n",
       "    <tr>\n",
       "      <th>109</th>\n",
       "      <td>110</td>\n",
       "      <td>NaN</td>\n",
       "      <td>100</td>\n",
       "      <td>21</td>\n",
       "    </tr>\n",
       "    <tr>\n",
       "      <th>296</th>\n",
       "      <td>297</td>\n",
       "      <td>NaN</td>\n",
       "      <td>100</td>\n",
       "      <td>21</td>\n",
       "    </tr>\n",
       "    <tr>\n",
       "      <th>416</th>\n",
       "      <td>417</td>\n",
       "      <td>NaN</td>\n",
       "      <td>100</td>\n",
       "      <td>21</td>\n",
       "    </tr>\n",
       "    <tr>\n",
       "      <th>436</th>\n",
       "      <td>437</td>\n",
       "      <td>NaN</td>\n",
       "      <td>100</td>\n",
       "      <td>21</td>\n",
       "    </tr>\n",
       "    <tr>\n",
       "      <th>...</th>\n",
       "      <td>...</td>\n",
       "      <td>...</td>\n",
       "      <td>...</td>\n",
       "      <td>...</td>\n",
       "    </tr>\n",
       "    <tr>\n",
       "      <th>49689</th>\n",
       "      <td>49690</td>\n",
       "      <td>HIGH PERFORMANCE ENERGY DRINK</td>\n",
       "      <td>64</td>\n",
       "      <td>7</td>\n",
       "    </tr>\n",
       "    <tr>\n",
       "      <th>49690</th>\n",
       "      <td>49691</td>\n",
       "      <td>ORIGINAL PANCAKE &amp; WAFFLE MIX</td>\n",
       "      <td>130</td>\n",
       "      <td>14</td>\n",
       "    </tr>\n",
       "    <tr>\n",
       "      <th>49691</th>\n",
       "      <td>49692</td>\n",
       "      <td>ORGANIC INSTANT OATMEAL LIGHT MAPLE BROWN SUGAR</td>\n",
       "      <td>130</td>\n",
       "      <td>14</td>\n",
       "    </tr>\n",
       "    <tr>\n",
       "      <th>49692</th>\n",
       "      <td>49693</td>\n",
       "      <td>SPRING WATER BODY WASH</td>\n",
       "      <td>127</td>\n",
       "      <td>11</td>\n",
       "    </tr>\n",
       "    <tr>\n",
       "      <th>49693</th>\n",
       "      <td>49694</td>\n",
       "      <td>BURRITO- STEAK &amp; CHEESE</td>\n",
       "      <td>38</td>\n",
       "      <td>1</td>\n",
       "    </tr>\n",
       "  </tbody>\n",
       "</table>\n",
       "<p>1361 rows × 4 columns</p>\n",
       "</div>"
      ],
      "text/plain": [
       "       product_id                                     product_name  aisle_id  \\\n",
       "71             72                                              NaN       100   \n",
       "109           110                                              NaN       100   \n",
       "296           297                                              NaN       100   \n",
       "416           417                                              NaN       100   \n",
       "436           437                                              NaN       100   \n",
       "...           ...                                              ...       ...   \n",
       "49689       49690                    HIGH PERFORMANCE ENERGY DRINK        64   \n",
       "49690       49691                    ORIGINAL PANCAKE & WAFFLE MIX       130   \n",
       "49691       49692  ORGANIC INSTANT OATMEAL LIGHT MAPLE BROWN SUGAR       130   \n",
       "49692       49693                           SPRING WATER BODY WASH       127   \n",
       "49693       49694                          BURRITO- STEAK & CHEESE        38   \n",
       "\n",
       "       department_id  \n",
       "71                21  \n",
       "109               21  \n",
       "296               21  \n",
       "416               21  \n",
       "436               21  \n",
       "...              ...  \n",
       "49689              7  \n",
       "49690             14  \n",
       "49691             14  \n",
       "49692             11  \n",
       "49693              1  \n",
       "\n",
       "[1361 rows x 4 columns]"
      ]
     },
     "execution_count": 30,
     "metadata": {},
     "output_type": "execute_result"
    }
   ],
   "source": [
    "data_products[data_products['product_name'].str.lower().duplicated()]"
   ]
  },
  {
   "cell_type": "markdown",
   "id": "7cb66e8b",
   "metadata": {},
   "source": [
    "**Check for duplicate product names that aren't missing**"
   ]
  },
  {
   "cell_type": "code",
   "execution_count": 31,
   "id": "01efd02e",
   "metadata": {},
   "outputs": [
    {
     "data": {
      "text/html": [
       "<div>\n",
       "<style scoped>\n",
       "    .dataframe tbody tr th:only-of-type {\n",
       "        vertical-align: middle;\n",
       "    }\n",
       "\n",
       "    .dataframe tbody tr th {\n",
       "        vertical-align: top;\n",
       "    }\n",
       "\n",
       "    .dataframe thead th {\n",
       "        text-align: right;\n",
       "    }\n",
       "</style>\n",
       "<table border=\"1\" class=\"dataframe\">\n",
       "  <thead>\n",
       "    <tr style=\"text-align: right;\">\n",
       "      <th></th>\n",
       "      <th>product_id</th>\n",
       "      <th>product_name</th>\n",
       "      <th>aisle_id</th>\n",
       "      <th>department_id</th>\n",
       "    </tr>\n",
       "  </thead>\n",
       "  <tbody>\n",
       "    <tr>\n",
       "      <th>2058</th>\n",
       "      <td>2059</td>\n",
       "      <td>Biotin 1000 Mcg</td>\n",
       "      <td>47</td>\n",
       "      <td>11</td>\n",
       "    </tr>\n",
       "    <tr>\n",
       "      <th>5455</th>\n",
       "      <td>5456</td>\n",
       "      <td>Green Tea With Ginseng and Honey</td>\n",
       "      <td>96</td>\n",
       "      <td>20</td>\n",
       "    </tr>\n",
       "    <tr>\n",
       "      <th>5558</th>\n",
       "      <td>5559</td>\n",
       "      <td>Cream Of Mushroom Soup</td>\n",
       "      <td>69</td>\n",
       "      <td>15</td>\n",
       "    </tr>\n",
       "    <tr>\n",
       "      <th>7558</th>\n",
       "      <td>7559</td>\n",
       "      <td>Cinnamon Rolls with Icing</td>\n",
       "      <td>105</td>\n",
       "      <td>13</td>\n",
       "    </tr>\n",
       "    <tr>\n",
       "      <th>9037</th>\n",
       "      <td>9038</td>\n",
       "      <td>American Cheese slices</td>\n",
       "      <td>21</td>\n",
       "      <td>16</td>\n",
       "    </tr>\n",
       "    <tr>\n",
       "      <th>...</th>\n",
       "      <td>...</td>\n",
       "      <td>...</td>\n",
       "      <td>...</td>\n",
       "      <td>...</td>\n",
       "    </tr>\n",
       "    <tr>\n",
       "      <th>49689</th>\n",
       "      <td>49690</td>\n",
       "      <td>HIGH PERFORMANCE ENERGY DRINK</td>\n",
       "      <td>64</td>\n",
       "      <td>7</td>\n",
       "    </tr>\n",
       "    <tr>\n",
       "      <th>49690</th>\n",
       "      <td>49691</td>\n",
       "      <td>ORIGINAL PANCAKE &amp; WAFFLE MIX</td>\n",
       "      <td>130</td>\n",
       "      <td>14</td>\n",
       "    </tr>\n",
       "    <tr>\n",
       "      <th>49691</th>\n",
       "      <td>49692</td>\n",
       "      <td>ORGANIC INSTANT OATMEAL LIGHT MAPLE BROWN SUGAR</td>\n",
       "      <td>130</td>\n",
       "      <td>14</td>\n",
       "    </tr>\n",
       "    <tr>\n",
       "      <th>49692</th>\n",
       "      <td>49693</td>\n",
       "      <td>SPRING WATER BODY WASH</td>\n",
       "      <td>127</td>\n",
       "      <td>11</td>\n",
       "    </tr>\n",
       "    <tr>\n",
       "      <th>49693</th>\n",
       "      <td>49694</td>\n",
       "      <td>BURRITO- STEAK &amp; CHEESE</td>\n",
       "      <td>38</td>\n",
       "      <td>1</td>\n",
       "    </tr>\n",
       "  </tbody>\n",
       "</table>\n",
       "<p>104 rows × 4 columns</p>\n",
       "</div>"
      ],
      "text/plain": [
       "       product_id                                     product_name  aisle_id  \\\n",
       "2058         2059                                  Biotin 1000 Mcg        47   \n",
       "5455         5456                 Green Tea With Ginseng and Honey        96   \n",
       "5558         5559                           Cream Of Mushroom Soup        69   \n",
       "7558         7559                        Cinnamon Rolls with Icing       105   \n",
       "9037         9038                           American Cheese slices        21   \n",
       "...           ...                                              ...       ...   \n",
       "49689       49690                    HIGH PERFORMANCE ENERGY DRINK        64   \n",
       "49690       49691                    ORIGINAL PANCAKE & WAFFLE MIX       130   \n",
       "49691       49692  ORGANIC INSTANT OATMEAL LIGHT MAPLE BROWN SUGAR       130   \n",
       "49692       49693                           SPRING WATER BODY WASH       127   \n",
       "49693       49694                          BURRITO- STEAK & CHEESE        38   \n",
       "\n",
       "       department_id  \n",
       "2058              11  \n",
       "5455              20  \n",
       "5558              15  \n",
       "7558              13  \n",
       "9037              16  \n",
       "...              ...  \n",
       "49689              7  \n",
       "49690             14  \n",
       "49691             14  \n",
       "49692             11  \n",
       "49693              1  \n",
       "\n",
       "[104 rows x 4 columns]"
      ]
     },
     "execution_count": 31,
     "metadata": {},
     "output_type": "execute_result"
    }
   ],
   "source": [
    "data_products[(data_products['product_name'].str.lower().duplicated()) & (~data_products['product_name'].isna())]"
   ]
  },
  {
   "cell_type": "markdown",
   "id": "9da8d293",
   "metadata": {},
   "source": []
  },
  {
   "cell_type": "markdown",
   "id": "60f30db1",
   "metadata": {},
   "source": [
    "### 4.3 `departments` data frame"
   ]
  },
  {
   "cell_type": "markdown",
   "id": "0ce46890",
   "metadata": {},
   "source": [
    "**Check for fully duplicate rows**"
   ]
  },
  {
   "cell_type": "code",
   "execution_count": 32,
   "id": "fb410ad4-0fbf-4b80-bb09-23fdea79afe3",
   "metadata": {},
   "outputs": [
    {
     "name": "stdout",
     "output_type": "stream",
     "text": [
      "\n",
      "Total Number of Duplicates:\n",
      "\n"
     ]
    },
    {
     "data": {
      "text/html": [
       "<div>\n",
       "<style scoped>\n",
       "    .dataframe tbody tr th:only-of-type {\n",
       "        vertical-align: middle;\n",
       "    }\n",
       "\n",
       "    .dataframe tbody tr th {\n",
       "        vertical-align: top;\n",
       "    }\n",
       "\n",
       "    .dataframe thead th {\n",
       "        text-align: right;\n",
       "    }\n",
       "</style>\n",
       "<table border=\"1\" class=\"dataframe\">\n",
       "  <thead>\n",
       "    <tr style=\"text-align: right;\">\n",
       "      <th></th>\n",
       "      <th>department_id</th>\n",
       "      <th>department</th>\n",
       "    </tr>\n",
       "  </thead>\n",
       "  <tbody>\n",
       "  </tbody>\n",
       "</table>\n",
       "</div>"
      ],
      "text/plain": [
       "Empty DataFrame\n",
       "Columns: [department_id, department]\n",
       "Index: []"
      ]
     },
     "metadata": {},
     "output_type": "display_data"
    }
   ],
   "source": [
    "print(\"\\nTotal Number of Duplicates:\\n\")\n",
    "display(data_departments[data_departments['department_id'].duplicated()])"
   ]
  },
  {
   "cell_type": "markdown",
   "id": "2b62098b",
   "metadata": {},
   "source": [
    "**Check for just duplicate department IDs**"
   ]
  },
  {
   "cell_type": "code",
   "execution_count": 33,
   "id": "332b12bb",
   "metadata": {},
   "outputs": [
    {
     "name": "stdout",
     "output_type": "stream",
     "text": [
      "\n",
      "Total Number of Duplicates:\n",
      "\n"
     ]
    },
    {
     "data": {
      "text/html": [
       "<div>\n",
       "<style scoped>\n",
       "    .dataframe tbody tr th:only-of-type {\n",
       "        vertical-align: middle;\n",
       "    }\n",
       "\n",
       "    .dataframe tbody tr th {\n",
       "        vertical-align: top;\n",
       "    }\n",
       "\n",
       "    .dataframe thead th {\n",
       "        text-align: right;\n",
       "    }\n",
       "</style>\n",
       "<table border=\"1\" class=\"dataframe\">\n",
       "  <thead>\n",
       "    <tr style=\"text-align: right;\">\n",
       "      <th></th>\n",
       "      <th>department_id</th>\n",
       "      <th>department</th>\n",
       "    </tr>\n",
       "  </thead>\n",
       "  <tbody>\n",
       "  </tbody>\n",
       "</table>\n",
       "</div>"
      ],
      "text/plain": [
       "Empty DataFrame\n",
       "Columns: [department_id, department]\n",
       "Index: []"
      ]
     },
     "metadata": {},
     "output_type": "display_data"
    }
   ],
   "source": [
    "print(\"\\nTotal Number of Duplicates:\\n\")\n",
    "display(data_departments[data_departments['department_id'].duplicated()])"
   ]
  },
  {
   "cell_type": "markdown",
   "id": "bd30d78e",
   "metadata": {},
   "source": [
    "**Check for just duplicate departments (convert names to lowercase to compare better)**"
   ]
  },
  {
   "cell_type": "code",
   "execution_count": 34,
   "id": "a0b5f39b",
   "metadata": {},
   "outputs": [
    {
     "data": {
      "text/html": [
       "<div>\n",
       "<style scoped>\n",
       "    .dataframe tbody tr th:only-of-type {\n",
       "        vertical-align: middle;\n",
       "    }\n",
       "\n",
       "    .dataframe tbody tr th {\n",
       "        vertical-align: top;\n",
       "    }\n",
       "\n",
       "    .dataframe thead th {\n",
       "        text-align: right;\n",
       "    }\n",
       "</style>\n",
       "<table border=\"1\" class=\"dataframe\">\n",
       "  <thead>\n",
       "    <tr style=\"text-align: right;\">\n",
       "      <th></th>\n",
       "      <th>department_id</th>\n",
       "      <th>department</th>\n",
       "    </tr>\n",
       "  </thead>\n",
       "  <tbody>\n",
       "  </tbody>\n",
       "</table>\n",
       "</div>"
      ],
      "text/plain": [
       "Empty DataFrame\n",
       "Columns: [department_id, department]\n",
       "Index: []"
      ]
     },
     "execution_count": 34,
     "metadata": {},
     "output_type": "execute_result"
    }
   ],
   "source": [
    "data_departments[data_departments['department'].str.lower().duplicated()]"
   ]
  },
  {
   "cell_type": "markdown",
   "id": "934a8d8d",
   "metadata": {},
   "source": [
    "**Check for duplicate departments that aren't missing**"
   ]
  },
  {
   "cell_type": "code",
   "execution_count": 35,
   "id": "f80ee38f",
   "metadata": {},
   "outputs": [
    {
     "data": {
      "text/html": [
       "<div>\n",
       "<style scoped>\n",
       "    .dataframe tbody tr th:only-of-type {\n",
       "        vertical-align: middle;\n",
       "    }\n",
       "\n",
       "    .dataframe tbody tr th {\n",
       "        vertical-align: top;\n",
       "    }\n",
       "\n",
       "    .dataframe thead th {\n",
       "        text-align: right;\n",
       "    }\n",
       "</style>\n",
       "<table border=\"1\" class=\"dataframe\">\n",
       "  <thead>\n",
       "    <tr style=\"text-align: right;\">\n",
       "      <th></th>\n",
       "      <th>department_id</th>\n",
       "      <th>department</th>\n",
       "    </tr>\n",
       "  </thead>\n",
       "  <tbody>\n",
       "  </tbody>\n",
       "</table>\n",
       "</div>"
      ],
      "text/plain": [
       "Empty DataFrame\n",
       "Columns: [department_id, department]\n",
       "Index: []"
      ]
     },
     "execution_count": 35,
     "metadata": {},
     "output_type": "execute_result"
    }
   ],
   "source": [
    "data_departments[(data_departments['department'].str.lower().duplicated()) & (~data_departments['department'].isna())]"
   ]
  },
  {
   "cell_type": "markdown",
   "id": "889349c1",
   "metadata": {},
   "source": [
    "### 4.4 `aisles` data frame"
   ]
  },
  {
   "cell_type": "markdown",
   "id": "9da89fb9-4679-40f5-ad0d-c34df753a3f8",
   "metadata": {},
   "source": [
    "**Check for fully duplicated rows**"
   ]
  },
  {
   "cell_type": "code",
   "execution_count": 36,
   "id": "da7c2822",
   "metadata": {},
   "outputs": [
    {
     "name": "stdout",
     "output_type": "stream",
     "text": [
      "\n",
      "Total Number of Duplicates:\n",
      "\n"
     ]
    },
    {
     "data": {
      "text/html": [
       "<div>\n",
       "<style scoped>\n",
       "    .dataframe tbody tr th:only-of-type {\n",
       "        vertical-align: middle;\n",
       "    }\n",
       "\n",
       "    .dataframe tbody tr th {\n",
       "        vertical-align: top;\n",
       "    }\n",
       "\n",
       "    .dataframe thead th {\n",
       "        text-align: right;\n",
       "    }\n",
       "</style>\n",
       "<table border=\"1\" class=\"dataframe\">\n",
       "  <thead>\n",
       "    <tr style=\"text-align: right;\">\n",
       "      <th></th>\n",
       "      <th>aisle_id</th>\n",
       "      <th>aisle</th>\n",
       "    </tr>\n",
       "  </thead>\n",
       "  <tbody>\n",
       "  </tbody>\n",
       "</table>\n",
       "</div>"
      ],
      "text/plain": [
       "Empty DataFrame\n",
       "Columns: [aisle_id, aisle]\n",
       "Index: []"
      ]
     },
     "metadata": {},
     "output_type": "display_data"
    }
   ],
   "source": [
    "print(\"\\nTotal Number of Duplicates:\\n\")\n",
    "display(data_aisles[data_aisles.duplicated()])"
   ]
  },
  {
   "cell_type": "markdown",
   "id": "ac63826f",
   "metadata": {},
   "source": [
    "**Check for just duplicate aisle IDs**"
   ]
  },
  {
   "cell_type": "code",
   "execution_count": 37,
   "id": "65920a7c",
   "metadata": {},
   "outputs": [
    {
     "name": "stdout",
     "output_type": "stream",
     "text": [
      "\n",
      "Total Number of Duplicates:\n",
      "\n"
     ]
    },
    {
     "data": {
      "text/html": [
       "<div>\n",
       "<style scoped>\n",
       "    .dataframe tbody tr th:only-of-type {\n",
       "        vertical-align: middle;\n",
       "    }\n",
       "\n",
       "    .dataframe tbody tr th {\n",
       "        vertical-align: top;\n",
       "    }\n",
       "\n",
       "    .dataframe thead th {\n",
       "        text-align: right;\n",
       "    }\n",
       "</style>\n",
       "<table border=\"1\" class=\"dataframe\">\n",
       "  <thead>\n",
       "    <tr style=\"text-align: right;\">\n",
       "      <th></th>\n",
       "      <th>aisle_id</th>\n",
       "      <th>aisle</th>\n",
       "    </tr>\n",
       "  </thead>\n",
       "  <tbody>\n",
       "  </tbody>\n",
       "</table>\n",
       "</div>"
      ],
      "text/plain": [
       "Empty DataFrame\n",
       "Columns: [aisle_id, aisle]\n",
       "Index: []"
      ]
     },
     "metadata": {},
     "output_type": "display_data"
    }
   ],
   "source": [
    "print(\"\\nTotal Number of Duplicates:\\n\")\n",
    "display(data_aisles[data_aisles.duplicated()])"
   ]
  },
  {
   "cell_type": "markdown",
   "id": "aaf52cfd",
   "metadata": {},
   "source": [
    "**Check for just duplicate aisles (convert names to lowercase to compare better)**"
   ]
  },
  {
   "cell_type": "code",
   "execution_count": 38,
   "id": "c7fc19a1",
   "metadata": {},
   "outputs": [
    {
     "data": {
      "text/html": [
       "<div>\n",
       "<style scoped>\n",
       "    .dataframe tbody tr th:only-of-type {\n",
       "        vertical-align: middle;\n",
       "    }\n",
       "\n",
       "    .dataframe tbody tr th {\n",
       "        vertical-align: top;\n",
       "    }\n",
       "\n",
       "    .dataframe thead th {\n",
       "        text-align: right;\n",
       "    }\n",
       "</style>\n",
       "<table border=\"1\" class=\"dataframe\">\n",
       "  <thead>\n",
       "    <tr style=\"text-align: right;\">\n",
       "      <th></th>\n",
       "      <th>aisle_id</th>\n",
       "      <th>aisle</th>\n",
       "    </tr>\n",
       "  </thead>\n",
       "  <tbody>\n",
       "  </tbody>\n",
       "</table>\n",
       "</div>"
      ],
      "text/plain": [
       "Empty DataFrame\n",
       "Columns: [aisle_id, aisle]\n",
       "Index: []"
      ]
     },
     "execution_count": 38,
     "metadata": {},
     "output_type": "execute_result"
    }
   ],
   "source": [
    "data_aisles[data_aisles['aisle'].str.lower().duplicated()]"
   ]
  },
  {
   "cell_type": "markdown",
   "id": "bf5ef3b2",
   "metadata": {},
   "source": [
    "**Check for duplicate aisles that aren't missing**"
   ]
  },
  {
   "cell_type": "code",
   "execution_count": 39,
   "id": "f999870e",
   "metadata": {},
   "outputs": [
    {
     "data": {
      "text/html": [
       "<div>\n",
       "<style scoped>\n",
       "    .dataframe tbody tr th:only-of-type {\n",
       "        vertical-align: middle;\n",
       "    }\n",
       "\n",
       "    .dataframe tbody tr th {\n",
       "        vertical-align: top;\n",
       "    }\n",
       "\n",
       "    .dataframe thead th {\n",
       "        text-align: right;\n",
       "    }\n",
       "</style>\n",
       "<table border=\"1\" class=\"dataframe\">\n",
       "  <thead>\n",
       "    <tr style=\"text-align: right;\">\n",
       "      <th></th>\n",
       "      <th>aisle_id</th>\n",
       "      <th>aisle</th>\n",
       "    </tr>\n",
       "  </thead>\n",
       "  <tbody>\n",
       "  </tbody>\n",
       "</table>\n",
       "</div>"
      ],
      "text/plain": [
       "Empty DataFrame\n",
       "Columns: [aisle_id, aisle]\n",
       "Index: []"
      ]
     },
     "execution_count": 39,
     "metadata": {},
     "output_type": "execute_result"
    }
   ],
   "source": [
    "data_aisles[(data_aisles['aisle'].str.lower().duplicated()) & (~data_aisles['aisle'].isna())]"
   ]
  },
  {
   "cell_type": "markdown",
   "id": "274cd06a",
   "metadata": {},
   "source": [
    "### 4.5 `order_products` data frame"
   ]
  },
  {
   "cell_type": "markdown",
   "id": "c91e8eda",
   "metadata": {},
   "source": [
    "**Check for fullly duplicate rows**"
   ]
  },
  {
   "cell_type": "code",
   "execution_count": 40,
   "id": "52326689-84a8-4b8f-a881-7c68780f62c9",
   "metadata": {},
   "outputs": [
    {
     "name": "stdout",
     "output_type": "stream",
     "text": [
      "\n",
      "Total Number of Duplicates:\n",
      "\n"
     ]
    },
    {
     "data": {
      "text/html": [
       "<div>\n",
       "<style scoped>\n",
       "    .dataframe tbody tr th:only-of-type {\n",
       "        vertical-align: middle;\n",
       "    }\n",
       "\n",
       "    .dataframe tbody tr th {\n",
       "        vertical-align: top;\n",
       "    }\n",
       "\n",
       "    .dataframe thead th {\n",
       "        text-align: right;\n",
       "    }\n",
       "</style>\n",
       "<table border=\"1\" class=\"dataframe\">\n",
       "  <thead>\n",
       "    <tr style=\"text-align: right;\">\n",
       "      <th></th>\n",
       "      <th>order_id</th>\n",
       "      <th>product_id</th>\n",
       "      <th>add_to_cart_order</th>\n",
       "      <th>reordered</th>\n",
       "    </tr>\n",
       "  </thead>\n",
       "  <tbody>\n",
       "  </tbody>\n",
       "</table>\n",
       "</div>"
      ],
      "text/plain": [
       "Empty DataFrame\n",
       "Columns: [order_id, product_id, add_to_cart_order, reordered]\n",
       "Index: []"
      ]
     },
     "metadata": {},
     "output_type": "display_data"
    }
   ],
   "source": [
    "print(\"\\nTotal Number of Duplicates:\\n\")\n",
    "display(data_order_products[data_order_products.duplicated()])"
   ]
  },
  {
   "cell_type": "markdown",
   "id": "06fed9bc",
   "metadata": {},
   "source": [
    "**Double check for any other tricky duplicates**"
   ]
  },
  {
   "cell_type": "code",
   "execution_count": 41,
   "id": "7b861391",
   "metadata": {},
   "outputs": [
    {
     "name": "stdout",
     "output_type": "stream",
     "text": [
      "\n",
      "Any Other Duplicates:\n",
      "\n"
     ]
    },
    {
     "data": {
      "text/plain": [
       "np.int64(0)"
      ]
     },
     "metadata": {},
     "output_type": "display_data"
    }
   ],
   "source": [
    "print(\"\\nAny Other Duplicates:\\n\")\n",
    "display(data_order_products[['order_id', 'product_id']].duplicated().sum())"
   ]
  },
  {
   "cell_type": "markdown",
   "id": "0b890492",
   "metadata": {},
   "source": []
  },
  {
   "cell_type": "markdown",
   "id": "1e46de76",
   "metadata": {},
   "source": [
    "# Section Five\n",
    "\n",
    "## Find and remove missing values\n"
   ]
  },
  {
   "cell_type": "markdown",
   "id": "c0aebd78",
   "metadata": {},
   "source": [
    "### 5.1 `products` data frame"
   ]
  },
  {
   "cell_type": "markdown",
   "id": "fe4a8b0f",
   "metadata": {},
   "source": [
    "**Are all of the missing product names associated with aisle ID 100?**"
   ]
  },
  {
   "cell_type": "code",
   "execution_count": 42,
   "id": "e96167bc",
   "metadata": {},
   "outputs": [
    {
     "data": {
      "text/html": [
       "<div>\n",
       "<style scoped>\n",
       "    .dataframe tbody tr th:only-of-type {\n",
       "        vertical-align: middle;\n",
       "    }\n",
       "\n",
       "    .dataframe tbody tr th {\n",
       "        vertical-align: top;\n",
       "    }\n",
       "\n",
       "    .dataframe thead th {\n",
       "        text-align: right;\n",
       "    }\n",
       "</style>\n",
       "<table border=\"1\" class=\"dataframe\">\n",
       "  <thead>\n",
       "    <tr style=\"text-align: right;\">\n",
       "      <th></th>\n",
       "      <th>product_id</th>\n",
       "      <th>product_name</th>\n",
       "      <th>aisle_id</th>\n",
       "      <th>department_id</th>\n",
       "    </tr>\n",
       "  </thead>\n",
       "  <tbody>\n",
       "    <tr>\n",
       "      <th>37</th>\n",
       "      <td>38</td>\n",
       "      <td>NaN</td>\n",
       "      <td>100</td>\n",
       "      <td>21</td>\n",
       "    </tr>\n",
       "    <tr>\n",
       "      <th>71</th>\n",
       "      <td>72</td>\n",
       "      <td>NaN</td>\n",
       "      <td>100</td>\n",
       "      <td>21</td>\n",
       "    </tr>\n",
       "    <tr>\n",
       "      <th>109</th>\n",
       "      <td>110</td>\n",
       "      <td>NaN</td>\n",
       "      <td>100</td>\n",
       "      <td>21</td>\n",
       "    </tr>\n",
       "    <tr>\n",
       "      <th>296</th>\n",
       "      <td>297</td>\n",
       "      <td>NaN</td>\n",
       "      <td>100</td>\n",
       "      <td>21</td>\n",
       "    </tr>\n",
       "    <tr>\n",
       "      <th>416</th>\n",
       "      <td>417</td>\n",
       "      <td>NaN</td>\n",
       "      <td>100</td>\n",
       "      <td>21</td>\n",
       "    </tr>\n",
       "    <tr>\n",
       "      <th>...</th>\n",
       "      <td>...</td>\n",
       "      <td>...</td>\n",
       "      <td>...</td>\n",
       "      <td>...</td>\n",
       "    </tr>\n",
       "    <tr>\n",
       "      <th>49552</th>\n",
       "      <td>49553</td>\n",
       "      <td>NaN</td>\n",
       "      <td>100</td>\n",
       "      <td>21</td>\n",
       "    </tr>\n",
       "    <tr>\n",
       "      <th>49574</th>\n",
       "      <td>49575</td>\n",
       "      <td>NaN</td>\n",
       "      <td>100</td>\n",
       "      <td>21</td>\n",
       "    </tr>\n",
       "    <tr>\n",
       "      <th>49640</th>\n",
       "      <td>49641</td>\n",
       "      <td>NaN</td>\n",
       "      <td>100</td>\n",
       "      <td>21</td>\n",
       "    </tr>\n",
       "    <tr>\n",
       "      <th>49663</th>\n",
       "      <td>49664</td>\n",
       "      <td>NaN</td>\n",
       "      <td>100</td>\n",
       "      <td>21</td>\n",
       "    </tr>\n",
       "    <tr>\n",
       "      <th>49668</th>\n",
       "      <td>49669</td>\n",
       "      <td>NaN</td>\n",
       "      <td>100</td>\n",
       "      <td>21</td>\n",
       "    </tr>\n",
       "  </tbody>\n",
       "</table>\n",
       "<p>1258 rows × 4 columns</p>\n",
       "</div>"
      ],
      "text/plain": [
       "       product_id product_name  aisle_id  department_id\n",
       "37             38          NaN       100             21\n",
       "71             72          NaN       100             21\n",
       "109           110          NaN       100             21\n",
       "296           297          NaN       100             21\n",
       "416           417          NaN       100             21\n",
       "...           ...          ...       ...            ...\n",
       "49552       49553          NaN       100             21\n",
       "49574       49575          NaN       100             21\n",
       "49640       49641          NaN       100             21\n",
       "49663       49664          NaN       100             21\n",
       "49668       49669          NaN       100             21\n",
       "\n",
       "[1258 rows x 4 columns]"
      ]
     },
     "metadata": {},
     "output_type": "display_data"
    }
   ],
   "source": [
    "missing_product_section = data_products[data_products['product_name'].isnull()]\n",
    "display(missing_product_section)"
   ]
  },
  {
   "cell_type": "markdown",
   "id": "989323b0",
   "metadata": {},
   "source": [
    "**Are all of the missing product names associated with department ID 21?**"
   ]
  },
  {
   "cell_type": "code",
   "execution_count": 43,
   "id": "8fd0a541",
   "metadata": {},
   "outputs": [
    {
     "data": {
      "text/html": [
       "<div>\n",
       "<style scoped>\n",
       "    .dataframe tbody tr th:only-of-type {\n",
       "        vertical-align: middle;\n",
       "    }\n",
       "\n",
       "    .dataframe tbody tr th {\n",
       "        vertical-align: top;\n",
       "    }\n",
       "\n",
       "    .dataframe thead th {\n",
       "        text-align: right;\n",
       "    }\n",
       "</style>\n",
       "<table border=\"1\" class=\"dataframe\">\n",
       "  <thead>\n",
       "    <tr style=\"text-align: right;\">\n",
       "      <th></th>\n",
       "      <th>product_id</th>\n",
       "      <th>product_name</th>\n",
       "      <th>aisle_id</th>\n",
       "      <th>department_id</th>\n",
       "    </tr>\n",
       "  </thead>\n",
       "  <tbody>\n",
       "  </tbody>\n",
       "</table>\n",
       "</div>"
      ],
      "text/plain": [
       "Empty DataFrame\n",
       "Columns: [product_id, product_name, aisle_id, department_id]\n",
       "Index: []"
      ]
     },
     "execution_count": 43,
     "metadata": {},
     "output_type": "execute_result"
    }
   ],
   "source": [
    "data_products[(data_products['product_name'].isnull()) & (data_products['department_id']!=21)]"
   ]
  },
  {
   "cell_type": "markdown",
   "id": "2b4b1858",
   "metadata": {},
   "source": [
    "**What is this ailse and department?**"
   ]
  },
  {
   "cell_type": "code",
   "execution_count": 44,
   "id": "325c3464",
   "metadata": {},
   "outputs": [
    {
     "name": "stdout",
     "output_type": "stream",
     "text": [
      "Missing Aisle Information:\n"
     ]
    },
    {
     "data": {
      "text/html": [
       "<div>\n",
       "<style scoped>\n",
       "    .dataframe tbody tr th:only-of-type {\n",
       "        vertical-align: middle;\n",
       "    }\n",
       "\n",
       "    .dataframe tbody tr th {\n",
       "        vertical-align: top;\n",
       "    }\n",
       "\n",
       "    .dataframe thead th {\n",
       "        text-align: right;\n",
       "    }\n",
       "</style>\n",
       "<table border=\"1\" class=\"dataframe\">\n",
       "  <thead>\n",
       "    <tr style=\"text-align: right;\">\n",
       "      <th></th>\n",
       "      <th>aisle_id</th>\n",
       "      <th>aisle</th>\n",
       "    </tr>\n",
       "  </thead>\n",
       "  <tbody>\n",
       "    <tr>\n",
       "      <th>99</th>\n",
       "      <td>100</td>\n",
       "      <td>missing</td>\n",
       "    </tr>\n",
       "  </tbody>\n",
       "</table>\n",
       "</div>"
      ],
      "text/plain": [
       "    aisle_id    aisle\n",
       "99       100  missing"
      ]
     },
     "metadata": {},
     "output_type": "display_data"
    },
    {
     "name": "stdout",
     "output_type": "stream",
     "text": [
      "Missing Department Information:\n"
     ]
    },
    {
     "data": {
      "text/html": [
       "<div>\n",
       "<style scoped>\n",
       "    .dataframe tbody tr th:only-of-type {\n",
       "        vertical-align: middle;\n",
       "    }\n",
       "\n",
       "    .dataframe tbody tr th {\n",
       "        vertical-align: top;\n",
       "    }\n",
       "\n",
       "    .dataframe thead th {\n",
       "        text-align: right;\n",
       "    }\n",
       "</style>\n",
       "<table border=\"1\" class=\"dataframe\">\n",
       "  <thead>\n",
       "    <tr style=\"text-align: right;\">\n",
       "      <th></th>\n",
       "      <th>department_id</th>\n",
       "      <th>department</th>\n",
       "    </tr>\n",
       "  </thead>\n",
       "  <tbody>\n",
       "    <tr>\n",
       "      <th>20</th>\n",
       "      <td>21</td>\n",
       "      <td>missing</td>\n",
       "    </tr>\n",
       "  </tbody>\n",
       "</table>\n",
       "</div>"
      ],
      "text/plain": [
       "    department_id department\n",
       "20             21    missing"
      ]
     },
     "metadata": {},
     "output_type": "display_data"
    }
   ],
   "source": [
    "data_aisles_aisle100 = data_aisles[(data_aisles['aisle_id'] == 100)]\n",
    "print('Missing Aisle Information:')\n",
    "display(data_aisles_aisle100)\n",
    "\n",
    "data_departments_dept21 = data_departments[(data_departments['department_id'] == 21)]\n",
    "print('Missing Department Information:')\n",
    "display(data_departments_dept21)"
   ]
  },
  {
   "cell_type": "markdown",
   "id": "324085ed",
   "metadata": {},
   "source": [
    "**Fill missing product names with 'Unknown'**"
   ]
  },
  {
   "cell_type": "code",
   "execution_count": 45,
   "id": "6b295120",
   "metadata": {},
   "outputs": [
    {
     "name": "stderr",
     "output_type": "stream",
     "text": [
      "C:\\Users\\bijan\\AppData\\Local\\Temp\\ipykernel_33340\\567808922.py:3: SettingWithCopyWarning: \n",
      "A value is trying to be set on a copy of a slice from a DataFrame.\n",
      "Try using .loc[row_indexer,col_indexer] = value instead\n",
      "\n",
      "See the caveats in the documentation: https://pandas.pydata.org/pandas-docs/stable/user_guide/indexing.html#returning-a-view-versus-a-copy\n",
      "  missing_product_section['product_name'] = missing_product_section['product_name'].fillna('Unknown')\n"
     ]
    },
    {
     "data": {
      "text/html": [
       "<div>\n",
       "<style scoped>\n",
       "    .dataframe tbody tr th:only-of-type {\n",
       "        vertical-align: middle;\n",
       "    }\n",
       "\n",
       "    .dataframe tbody tr th {\n",
       "        vertical-align: top;\n",
       "    }\n",
       "\n",
       "    .dataframe thead th {\n",
       "        text-align: right;\n",
       "    }\n",
       "</style>\n",
       "<table border=\"1\" class=\"dataframe\">\n",
       "  <thead>\n",
       "    <tr style=\"text-align: right;\">\n",
       "      <th></th>\n",
       "      <th>product_id</th>\n",
       "      <th>product_name</th>\n",
       "      <th>aisle_id</th>\n",
       "      <th>department_id</th>\n",
       "    </tr>\n",
       "  </thead>\n",
       "  <tbody>\n",
       "    <tr>\n",
       "      <th>37</th>\n",
       "      <td>38</td>\n",
       "      <td>Unknown</td>\n",
       "      <td>100</td>\n",
       "      <td>21</td>\n",
       "    </tr>\n",
       "    <tr>\n",
       "      <th>71</th>\n",
       "      <td>72</td>\n",
       "      <td>Unknown</td>\n",
       "      <td>100</td>\n",
       "      <td>21</td>\n",
       "    </tr>\n",
       "    <tr>\n",
       "      <th>109</th>\n",
       "      <td>110</td>\n",
       "      <td>Unknown</td>\n",
       "      <td>100</td>\n",
       "      <td>21</td>\n",
       "    </tr>\n",
       "    <tr>\n",
       "      <th>296</th>\n",
       "      <td>297</td>\n",
       "      <td>Unknown</td>\n",
       "      <td>100</td>\n",
       "      <td>21</td>\n",
       "    </tr>\n",
       "    <tr>\n",
       "      <th>416</th>\n",
       "      <td>417</td>\n",
       "      <td>Unknown</td>\n",
       "      <td>100</td>\n",
       "      <td>21</td>\n",
       "    </tr>\n",
       "    <tr>\n",
       "      <th>...</th>\n",
       "      <td>...</td>\n",
       "      <td>...</td>\n",
       "      <td>...</td>\n",
       "      <td>...</td>\n",
       "    </tr>\n",
       "    <tr>\n",
       "      <th>49552</th>\n",
       "      <td>49553</td>\n",
       "      <td>Unknown</td>\n",
       "      <td>100</td>\n",
       "      <td>21</td>\n",
       "    </tr>\n",
       "    <tr>\n",
       "      <th>49574</th>\n",
       "      <td>49575</td>\n",
       "      <td>Unknown</td>\n",
       "      <td>100</td>\n",
       "      <td>21</td>\n",
       "    </tr>\n",
       "    <tr>\n",
       "      <th>49640</th>\n",
       "      <td>49641</td>\n",
       "      <td>Unknown</td>\n",
       "      <td>100</td>\n",
       "      <td>21</td>\n",
       "    </tr>\n",
       "    <tr>\n",
       "      <th>49663</th>\n",
       "      <td>49664</td>\n",
       "      <td>Unknown</td>\n",
       "      <td>100</td>\n",
       "      <td>21</td>\n",
       "    </tr>\n",
       "    <tr>\n",
       "      <th>49668</th>\n",
       "      <td>49669</td>\n",
       "      <td>Unknown</td>\n",
       "      <td>100</td>\n",
       "      <td>21</td>\n",
       "    </tr>\n",
       "  </tbody>\n",
       "</table>\n",
       "<p>1258 rows × 4 columns</p>\n",
       "</div>"
      ],
      "text/plain": [
       "       product_id product_name  aisle_id  department_id\n",
       "37             38      Unknown       100             21\n",
       "71             72      Unknown       100             21\n",
       "109           110      Unknown       100             21\n",
       "296           297      Unknown       100             21\n",
       "416           417      Unknown       100             21\n",
       "...           ...          ...       ...            ...\n",
       "49552       49553      Unknown       100             21\n",
       "49574       49575      Unknown       100             21\n",
       "49640       49641      Unknown       100             21\n",
       "49663       49664      Unknown       100             21\n",
       "49668       49669      Unknown       100             21\n",
       "\n",
       "[1258 rows x 4 columns]"
      ]
     },
     "metadata": {},
     "output_type": "display_data"
    }
   ],
   "source": [
    "#missing_product_section = data_products[data_products['product_name'].isna()]\n",
    "#missing_product_section['product_name'].fillna('Unknown', inplace=True)\n",
    "missing_product_section['product_name'] = missing_product_section['product_name'].fillna('Unknown')\n",
    "display(missing_product_section)"
   ]
  },
  {
   "cell_type": "markdown",
   "id": "fc70e5ad",
   "metadata": {},
   "source": [
    "### 5.2 `orders` data frame"
   ]
  },
  {
   "cell_type": "markdown",
   "id": "7eb45c86",
   "metadata": {},
   "source": [
    "**Are there any missing values where it's not a customer's first order?**"
   ]
  },
  {
   "cell_type": "code",
   "execution_count": 46,
   "id": "93e41d96",
   "metadata": {},
   "outputs": [
    {
     "data": {
      "text/html": [
       "<div>\n",
       "<style scoped>\n",
       "    .dataframe tbody tr th:only-of-type {\n",
       "        vertical-align: middle;\n",
       "    }\n",
       "\n",
       "    .dataframe tbody tr th {\n",
       "        vertical-align: top;\n",
       "    }\n",
       "\n",
       "    .dataframe thead th {\n",
       "        text-align: right;\n",
       "    }\n",
       "</style>\n",
       "<table border=\"1\" class=\"dataframe\">\n",
       "  <thead>\n",
       "    <tr style=\"text-align: right;\">\n",
       "      <th></th>\n",
       "      <th>order_id</th>\n",
       "      <th>user_id</th>\n",
       "      <th>order_number</th>\n",
       "      <th>order_dow</th>\n",
       "      <th>order_hour_of_day</th>\n",
       "      <th>days_since_prior_order</th>\n",
       "    </tr>\n",
       "  </thead>\n",
       "  <tbody>\n",
       "  </tbody>\n",
       "</table>\n",
       "</div>"
      ],
      "text/plain": [
       "Empty DataFrame\n",
       "Columns: [order_id, user_id, order_number, order_dow, order_hour_of_day, days_since_prior_order]\n",
       "Index: []"
      ]
     },
     "execution_count": 46,
     "metadata": {},
     "output_type": "execute_result"
    }
   ],
   "source": [
    "data_insta_orders[(data_insta_orders['order_number']!= 1) & (data_insta_orders['days_since_prior_order'].isnull())]"
   ]
  },
  {
   "cell_type": "markdown",
   "id": "4e23d089",
   "metadata": {},
   "source": [
    "### 5.3 `order_products` data frame"
   ]
  },
  {
   "cell_type": "markdown",
   "id": "69dc9ca4",
   "metadata": {},
   "source": [
    "**Using .isna().sum() to calculate the total number of missing values for each column**"
   ]
  },
  {
   "cell_type": "code",
   "execution_count": 47,
   "id": "b8240253",
   "metadata": {},
   "outputs": [
    {
     "data": {
      "text/plain": [
       "order_id               0\n",
       "product_id             0\n",
       "add_to_cart_order    836\n",
       "reordered              0\n",
       "dtype: int64"
      ]
     },
     "execution_count": 47,
     "metadata": {},
     "output_type": "execute_result"
    }
   ],
   "source": [
    "data_order_products.isna().sum()"
   ]
  },
  {
   "cell_type": "markdown",
   "id": "8fd617c1",
   "metadata": {},
   "source": [
    "**What are the min and max values in this column?**"
   ]
  },
  {
   "cell_type": "code",
   "execution_count": 48,
   "id": "9a78e5ee",
   "metadata": {},
   "outputs": [
    {
     "name": "stdout",
     "output_type": "stream",
     "text": [
      "Minimum add_to_cart_order value is:\n",
      "\n"
     ]
    },
    {
     "data": {
      "text/plain": [
       "np.float64(1.0)"
      ]
     },
     "metadata": {},
     "output_type": "display_data"
    },
    {
     "name": "stdout",
     "output_type": "stream",
     "text": [
      "Maximum add_to_cart_order value is:\n",
      "\n"
     ]
    },
    {
     "data": {
      "text/plain": [
       "np.float64(64.0)"
      ]
     },
     "metadata": {},
     "output_type": "display_data"
    }
   ],
   "source": [
    "print(\"Minimum add_to_cart_order value is:\\n\")\n",
    "display(data_order_products['add_to_cart_order'].min())\n",
    "\n",
    "print(\"Maximum add_to_cart_order value is:\\n\")\n",
    "display(data_order_products['add_to_cart_order'].max())"
   ]
  },
  {
   "cell_type": "markdown",
   "id": "24bf90e9",
   "metadata": {},
   "source": [
    "**Save all order IDs with at least one missing value in 'add_to_cart_order'**\n",
    "- Do all orders with missing values have more than 64 products?**"
   ]
  },
  {
   "cell_type": "code",
   "execution_count": 49,
   "id": "ab9d0c2b",
   "metadata": {},
   "outputs": [
    {
     "name": "stdout",
     "output_type": "stream",
     "text": [
      "True\n"
     ]
    }
   ],
   "source": [
    "missing_add_to_cart_value = data_order_products[data_order_products['add_to_cart_order'].isnull()]['order_id'].unique()\n",
    "missing_add_to_cart_value\n",
    "\n",
    "missing_count = data_order_products[data_order_products['order_id'].isin(missing_add_to_cart_value)].groupby('order_id').size()\n",
    "                                    \n",
    "Above_Sixty_four_tally = (missing_count > 64).all()\n",
    "print(Above_Sixty_four_tally)\n"
   ]
  },
  {
   "cell_type": "markdown",
   "id": "54c31695",
   "metadata": {},
   "source": [
    "**Replace missing values with 999 and convert column to integer type**\n"
   ]
  },
  {
   "cell_type": "code",
   "execution_count": 50,
   "id": "7a987d08",
   "metadata": {},
   "outputs": [
    {
     "data": {
      "text/plain": [
       "np.int64(0)"
      ]
     },
     "metadata": {},
     "output_type": "display_data"
    },
    {
     "data": {
      "text/plain": [
       "dtype('int64')"
      ]
     },
     "metadata": {},
     "output_type": "display_data"
    }
   ],
   "source": [
    "data_order_products['add_to_cart_order'] = data_order_products['add_to_cart_order'].fillna(999).astype(int)\n",
    "display(data_order_products['add_to_cart_order'].isnull().sum())\n",
    "display(data_order_products['add_to_cart_order'].dtype)"
   ]
  },
  {
   "cell_type": "markdown",
   "id": "fea4bcc7",
   "metadata": {},
   "source": []
  },
  {
   "cell_type": "markdown",
   "id": "turkish-kidney",
   "metadata": {},
   "source": [
    "# Section Six\n",
    "\n",
    "### [A] Easy (must complete all to pass)"
   ]
  },
  {
   "cell_type": "markdown",
   "id": "short-capability",
   "metadata": {},
   "source": [
    "### [A1] Verify that the `'order_hour_of_day'` and `'order_dow'` values in the `orders` tables are sensible (i.e. `'order_hour_of_day'` ranges from 0 to 23 and `'order_dow'` ranges from 0 to 6)"
   ]
  },
  {
   "cell_type": "code",
   "execution_count": 51,
   "id": "growing-fruit",
   "metadata": {},
   "outputs": [
    {
     "data": {
      "text/plain": [
       "np.True_"
      ]
     },
     "metadata": {},
     "output_type": "display_data"
    }
   ],
   "source": [
    "ordering_range_analysis = ((data_insta_orders['order_dow'] >= 0 ) & (data_insta_orders['order_dow'] <= 6) & \n",
    "                (data_insta_orders['order_hour_of_day'] >= 0) & (data_insta_orders['order_hour_of_day'] <= 23))\n",
    "\n",
    "all_ordering_range = ordering_range_analysis.all()\n",
    "display(all_ordering_range)"
   ]
  },
  {
   "cell_type": "markdown",
   "id": "accessory-malaysia",
   "metadata": {},
   "source": [
    "### [A2] What time of day do people shop for groceries?"
   ]
  },
  {
   "cell_type": "code",
   "execution_count": 52,
   "id": "a6743a70",
   "metadata": {},
   "outputs": [
    {
     "data": {
      "text/plain": [
       "order_hour_of_day\n",
       "10    40578\n",
       "11    40032\n",
       "15    39789\n",
       "14    39631\n",
       "13    39007\n",
       "16    38112\n",
       "12    38034\n",
       "9     35896\n",
       "17    31930\n",
       "18    25510\n",
       "8     25024\n",
       "19    19547\n",
       "20    14624\n",
       "7     13043\n",
       "21    11019\n",
       "22     8512\n",
       "23     5611\n",
       "6      4215\n",
       "0      3180\n",
       "1      1763\n",
       "5      1371\n",
       "2       989\n",
       "3       770\n",
       "4       765\n",
       "Name: count, dtype: int64"
      ]
     },
     "metadata": {},
     "output_type": "display_data"
    }
   ],
   "source": [
    "peak_shopping_hour = data_insta_orders['order_hour_of_day'].value_counts().sort_values(ascending=False)\n",
    "display(peak_shopping_hour)"
   ]
  },
  {
   "cell_type": "markdown",
   "id": "documented-command",
   "metadata": {},
   "source": [
    "### [A3] What day of the week do people shop for groceries?"
   ]
  },
  {
   "cell_type": "code",
   "execution_count": 53,
   "id": "chief-digit",
   "metadata": {},
   "outputs": [
    {
     "data": {
      "text/plain": [
       "order_dow\n",
       "0    84090\n",
       "1    82185\n",
       "2    65833\n",
       "5    63488\n",
       "6    62649\n",
       "3    60897\n",
       "4    59810\n",
       "Name: count, dtype: int64"
      ]
     },
     "metadata": {},
     "output_type": "display_data"
    }
   ],
   "source": [
    "shopping_day = data_insta_orders['order_dow'].value_counts().sort_values(ascending=False)\n",
    "display(shopping_day)"
   ]
  },
  {
   "cell_type": "markdown",
   "id": "cutting-concert",
   "metadata": {},
   "source": [
    "### [A4] How long do people wait until placing another order?"
   ]
  },
  {
   "cell_type": "code",
   "execution_count": 54,
   "id": "c231f523",
   "metadata": {},
   "outputs": [
    {
     "data": {
      "text/plain": [
       "days_since_prior_order\n",
       "30.0    51337\n",
       "7.0     44577\n",
       "6.0     33930\n",
       "4.0     31006\n",
       "3.0     30224\n",
       "5.0     30096\n",
       "2.0     27138\n",
       "8.0     25361\n",
       "1.0     20179\n",
       "9.0     16753\n",
       "14.0    13992\n",
       "10.0    13309\n",
       "13.0    11737\n",
       "11.0    11467\n",
       "12.0    10658\n",
       "0.0      9589\n",
       "15.0     9416\n",
       "16.0     6587\n",
       "21.0     6448\n",
       "17.0     5498\n",
       "20.0     5302\n",
       "18.0     4971\n",
       "19.0     4939\n",
       "22.0     4514\n",
       "28.0     3745\n",
       "23.0     3337\n",
       "24.0     3015\n",
       "27.0     2986\n",
       "25.0     2711\n",
       "29.0     2673\n",
       "26.0     2640\n",
       "Name: count, dtype: int64"
      ]
     },
     "metadata": {},
     "output_type": "display_data"
    }
   ],
   "source": [
    "shopping_lagtime = data_insta_orders['days_since_prior_order'].value_counts().sort_values(ascending=False)\n",
    "display(shopping_lagtime)"
   ]
  },
  {
   "cell_type": "markdown",
   "id": "829600db",
   "metadata": {},
   "source": [
    "<div align=\"center\">\n",
    "\n",
    "### Customer Order Frequency Analysis by Days Since Last Order\n",
    "\n",
    "</div>\n",
    "The list above ranks the top fifteen days by customer count, based on the number of days since the last order and the corresponding customer volume. Most orders occur within the first nine days, with the top ten days each exceeding 16,000 orders and subsequent days maintaining volumes above 10,000. Notably, there is a sharp increase around the 30-day mark—customer counts rise from roughly 14,000 at 14 days to over 51,000 at 30 days—indicating a significant boost in customer activity after a month has passed since the last order.<br>\n",
    "<br>\n",
    "**Quick Reference Summary**\n",
    "\n",
    "**Primary Reorder Windows (30,000+ customers)**\n",
    "\n",
    "* **Monthly cycle:** 30 days (51,337 customers)\n",
    "* **Weekly cycle:** 7 days (44,577 customers)\n",
    "* **Short-term returns:** 3-6 days (30,000+ customers each)\n",
    "\n",
    "**Secondary Windows (16,000-30,000 customers)**\n",
    "\n",
    "* **Immediate returns:** 1-2 days\n",
    "* **Extended weekly:** 8-9 days\n",
    "\n",
    "**Pattern Implications**\n",
    "\n",
    "- Strong monthly subscription-like behavior (30-day peak)\n",
    "- Weekly routine purchasing (7-day spike)\n",
    "- Diminishing activity between 10-14 days\n",
    "\n",
    "* **Strategic Opportunity:** \n",
    "  - Leverage these natural reorder cycles with targeted promotions at 7 and 30-day intervals to reinforce existing behavior patterns\n"
   ]
  },
  {
   "cell_type": "markdown",
   "id": "tight-staff",
   "metadata": {},
   "source": [
    "# Section Seven\n",
    "\n",
    "### [B] Medium (must complete all to pass)"
   ]
  },
  {
   "cell_type": "markdown",
   "id": "packed-classic",
   "metadata": {},
   "source": [
    "### [B1] Is there a difference in `'order_hour_of_day'` distributions on Wednesdays and Saturdays? Plot the histograms for both days and describe the differences that you see."
   ]
  },
  {
   "cell_type": "code",
   "execution_count": 55,
   "id": "d89b8403",
   "metadata": {},
   "outputs": [
    {
     "data": {
      "text/plain": [
       "<Figure size 1000x600 with 0 Axes>"
      ]
     },
     "metadata": {},
     "output_type": "display_data"
    },
    {
     "data": {
      "image/png": "[encoded data removed]",
      "text/plain": [
       "<Figure size 640x480 with 1 Axes>"
      ]
     },
     "metadata": {},
     "output_type": "display_data"
    }
   ],
   "source": [
    "Wednesday_insta_orders = data_insta_orders[data_insta_orders['order_dow'] == 3]['order_hour_of_day'].value_counts().sort_index()\n",
    "Saturday_insta_orders = data_insta_orders[data_insta_orders['order_dow'] == 6]['order_hour_of_day'].value_counts().sort_index()\n",
    "shopping_order_hod_comparison = pd.DataFrame({ 'Wednesday': Wednesday_insta_orders, 'Saturday': Saturday_insta_orders })\n",
    "\n",
    "plt.figure(figsize=(10, 6))\n",
    "shopping_order_hod_comparison.plot(\n",
    "    kind='bar',\n",
    "    xlabel='Hour of Day',\n",
    "    ylabel='Total Orders',\n",
    "    legend=True\n",
    ")\n",
    "plt.title=('Comparison of Shopping on Wednesday vs Saturday by Hour')\n",
    "plt.xticks(range(0, 24, 6))\n",
    "plt.show()"
   ]
  },
  {
   "cell_type": "markdown",
   "id": "94e54e8a",
   "metadata": {},
   "source": [
    "<div align=\"center\">\n",
    "\n",
    "### Orders by Hour Comparison: Wednesday vs Saturday\n",
    "\n",
    "</div>\n",
    "\n",
    "The visualization compares hourly order distribution on Wednesday and Saturday. Both days share similar patterns with peak activity (4000-5000 orders) occurring between 10am-4pm. \n",
    "\n",
    "Order volume remains minimal (below 500) from midnight to 6am, then steadily increases through morning hours. After peaking midday, volume gradually decreases through evening hours. \n",
    "\n",
    "Wednesday shows higher order volumes during early morning (7-9am) and evening (6-8pm) periods, while Saturday demonstrates stronger performance during midday hours (11am-6pm), suggesting different shopping patterns on a weekday versus a weekend day.<br>\n",
    "<br>\n",
    "**Quick Reference Summary**\n",
    "\n",
    "* **Peak hours (4000+ orders)**: 9am-6pm on both days\n",
    "* **High activity (3000+ orders)**: 8am-9am and 6pm-7pm\n",
    "* **Moderate activity (1000+ orders)**: Until 11pm\n",
    "\n",
    "**Day comparison:**\n",
    "* **Wednesday advantage**: Early morning (7am-9am) and evening (6pm-8pm)\n",
    "* **Saturday advantage**: Midday hours (11am-6pm)\n",
    "* **Minimal activity**: Midnight to 6am on both days\n",
    "\n",
    "* **Strategic Implications:**\n",
    "  - Optimize staffing and marketing efforts to match the patterns of weekday commuters and weekend activity. Also, run special promotions during the overnight hours when ordering volume is low."
   ]
  },
  {
   "cell_type": "markdown",
   "id": "e3891143",
   "metadata": {},
   "source": [
    "- [B2] What's the distribution for the number of orders per customer?"
   ]
  },
  {
   "cell_type": "code",
   "execution_count": 56,
   "id": "d8c26c23",
   "metadata": {},
   "outputs": [
    {
     "data": {
      "image/png": "[encoded data removed]",
      "text/plain": [
       "<Figure size 640x480 with 1 Axes>"
      ]
     },
     "metadata": {},
     "output_type": "display_data"
    }
   ],
   "source": [
    "insta_orders_per_customer = data_insta_orders['user_id'].value_counts()\n",
    "\n",
    "insta_orders_per_customer.plot(\n",
    "    kind='hist',\n",
    "    bins=20,\n",
    "    xlabel='Number of Orders per Customer',\n",
    "    ylabel='Frequency of Customer',\n",
    "    legend=False\n",
    ")\n",
    "\n",
    "plt.title=('Distribution of Insta_Orders per Customer')\n",
    "\n",
    "plt.show()"
   ]
  },
  {
   "cell_type": "markdown",
   "id": "00e69a66",
   "metadata": {},
   "source": [
    "<div align=\"center\">\n",
    "\n",
    "### Customer Retention Analysis\n",
    "\n",
    "</div>\n",
    "\n",
    "Customer acquisition appears strong with 90,000 initial purchases, likely reflecting a successful promotional campaign aimed at attracting new customers. However, the dramatic drop in repeat orders — 22,000 second orders, representing a 75% drop-off — raises questions. Without more details on transaction costs and restaurant selection it’s hard to identify the causes of attrition. The root issue could lie in either of these areas or both.<br>\n",
    "<br>\n",
    "**Quick Reference Summary**\n",
    "\n",
    "- **First Purchase (90,000+ customers):** Peak acquisition point showing strong customer acquisition\n",
    "- **Second Purchase (22,000 customers):** 75% drop-off from initial order\n",
    "\n",
    "Progressive Decline:\n",
    "\n",
    "- **Orders 3-5:** Continued sharp decline (<10,000 customers)\n",
    "- **Orders 6-16:** Low retention with gradual tapering\n",
    "- **Orders 17+:** Near-zero retention\n",
    "\n",
    "* **Strategic Implications:**\n",
    "  - Critical opportunity to improve post-purchase experience and implement targeted retention initiatives"
   ]
  },
  {
   "cell_type": "markdown",
   "id": "54a0319c",
   "metadata": {},
   "source": [
    "### [B3] What are the top 20 popular products (display their id and name)?"
   ]
  },
  {
   "cell_type": "code",
   "execution_count": 57,
   "id": "exterior-arizona",
   "metadata": {
    "scrolled": true
   },
   "outputs": [
    {
     "name": "stdout",
     "output_type": "stream",
     "text": [
      "\n",
      "Top 20 Popular Products:\n",
      "\n"
     ]
    },
    {
     "data": {
      "text/html": [
       "<div>\n",
       "<style scoped>\n",
       "    .dataframe tbody tr th:only-of-type {\n",
       "        vertical-align: middle;\n",
       "    }\n",
       "\n",
       "    .dataframe tbody tr th {\n",
       "        vertical-align: top;\n",
       "    }\n",
       "\n",
       "    .dataframe thead th {\n",
       "        text-align: right;\n",
       "    }\n",
       "</style>\n",
       "<table border=\"1\" class=\"dataframe\">\n",
       "  <thead>\n",
       "    <tr style=\"text-align: right;\">\n",
       "      <th></th>\n",
       "      <th>product_id</th>\n",
       "      <th>product_name</th>\n",
       "      <th>order_count</th>\n",
       "    </tr>\n",
       "  </thead>\n",
       "  <tbody>\n",
       "    <tr>\n",
       "      <th>0</th>\n",
       "      <td>24852</td>\n",
       "      <td>Banana</td>\n",
       "      <td>66050</td>\n",
       "    </tr>\n",
       "    <tr>\n",
       "      <th>1</th>\n",
       "      <td>13176</td>\n",
       "      <td>Bag of Organic Bananas</td>\n",
       "      <td>53297</td>\n",
       "    </tr>\n",
       "    <tr>\n",
       "      <th>2</th>\n",
       "      <td>21137</td>\n",
       "      <td>Organic Strawberries</td>\n",
       "      <td>37039</td>\n",
       "    </tr>\n",
       "    <tr>\n",
       "      <th>3</th>\n",
       "      <td>21903</td>\n",
       "      <td>Organic Baby Spinach</td>\n",
       "      <td>33971</td>\n",
       "    </tr>\n",
       "    <tr>\n",
       "      <th>4</th>\n",
       "      <td>47209</td>\n",
       "      <td>Organic Hass Avocado</td>\n",
       "      <td>29773</td>\n",
       "    </tr>\n",
       "    <tr>\n",
       "      <th>5</th>\n",
       "      <td>47766</td>\n",
       "      <td>Organic Avocado</td>\n",
       "      <td>24689</td>\n",
       "    </tr>\n",
       "    <tr>\n",
       "      <th>6</th>\n",
       "      <td>47626</td>\n",
       "      <td>Large Lemon</td>\n",
       "      <td>21495</td>\n",
       "    </tr>\n",
       "    <tr>\n",
       "      <th>7</th>\n",
       "      <td>16797</td>\n",
       "      <td>Strawberries</td>\n",
       "      <td>20018</td>\n",
       "    </tr>\n",
       "    <tr>\n",
       "      <th>8</th>\n",
       "      <td>26209</td>\n",
       "      <td>Limes</td>\n",
       "      <td>19690</td>\n",
       "    </tr>\n",
       "    <tr>\n",
       "      <th>9</th>\n",
       "      <td>27845</td>\n",
       "      <td>Organic Whole Milk</td>\n",
       "      <td>19600</td>\n",
       "    </tr>\n",
       "    <tr>\n",
       "      <th>10</th>\n",
       "      <td>27966</td>\n",
       "      <td>Organic Raspberries</td>\n",
       "      <td>19197</td>\n",
       "    </tr>\n",
       "    <tr>\n",
       "      <th>11</th>\n",
       "      <td>22935</td>\n",
       "      <td>Organic Yellow Onion</td>\n",
       "      <td>15898</td>\n",
       "    </tr>\n",
       "    <tr>\n",
       "      <th>12</th>\n",
       "      <td>24964</td>\n",
       "      <td>Organic Garlic</td>\n",
       "      <td>15292</td>\n",
       "    </tr>\n",
       "    <tr>\n",
       "      <th>13</th>\n",
       "      <td>45007</td>\n",
       "      <td>Organic Zucchini</td>\n",
       "      <td>14584</td>\n",
       "    </tr>\n",
       "    <tr>\n",
       "      <th>14</th>\n",
       "      <td>39275</td>\n",
       "      <td>Organic Blueberries</td>\n",
       "      <td>13879</td>\n",
       "    </tr>\n",
       "    <tr>\n",
       "      <th>15</th>\n",
       "      <td>49683</td>\n",
       "      <td>Cucumber Kirby</td>\n",
       "      <td>13675</td>\n",
       "    </tr>\n",
       "    <tr>\n",
       "      <th>16</th>\n",
       "      <td>28204</td>\n",
       "      <td>Organic Fuji Apple</td>\n",
       "      <td>12544</td>\n",
       "    </tr>\n",
       "    <tr>\n",
       "      <th>17</th>\n",
       "      <td>5876</td>\n",
       "      <td>Organic Lemon</td>\n",
       "      <td>12232</td>\n",
       "    </tr>\n",
       "    <tr>\n",
       "      <th>18</th>\n",
       "      <td>8277</td>\n",
       "      <td>Apple Honeycrisp Organic</td>\n",
       "      <td>11993</td>\n",
       "    </tr>\n",
       "    <tr>\n",
       "      <th>19</th>\n",
       "      <td>40706</td>\n",
       "      <td>Organic Grape Tomatoes</td>\n",
       "      <td>11781</td>\n",
       "    </tr>\n",
       "  </tbody>\n",
       "</table>\n",
       "</div>"
      ],
      "text/plain": [
       "    product_id              product_name  order_count\n",
       "0        24852                    Banana        66050\n",
       "1        13176    Bag of Organic Bananas        53297\n",
       "2        21137      Organic Strawberries        37039\n",
       "3        21903      Organic Baby Spinach        33971\n",
       "4        47209      Organic Hass Avocado        29773\n",
       "5        47766           Organic Avocado        24689\n",
       "6        47626               Large Lemon        21495\n",
       "7        16797              Strawberries        20018\n",
       "8        26209                     Limes        19690\n",
       "9        27845        Organic Whole Milk        19600\n",
       "10       27966       Organic Raspberries        19197\n",
       "11       22935      Organic Yellow Onion        15898\n",
       "12       24964            Organic Garlic        15292\n",
       "13       45007          Organic Zucchini        14584\n",
       "14       39275       Organic Blueberries        13879\n",
       "15       49683            Cucumber Kirby        13675\n",
       "16       28204        Organic Fuji Apple        12544\n",
       "17        5876             Organic Lemon        12232\n",
       "18        8277  Apple Honeycrisp Organic        11993\n",
       "19       40706    Organic Grape Tomatoes        11781"
      ]
     },
     "metadata": {},
     "output_type": "display_data"
    }
   ],
   "source": [
    "popular_products = data_order_products['product_id'].value_counts()\n",
    "popular_products_df = popular_products.reset_index()\n",
    "popular_products_df.columns = ['product_id', 'order_count'] \n",
    "popular_products_df = popular_products_df.merge(data_products[['product_id', 'product_name']], on='product_id', how='left')\n",
    "print(\"\\nTop 20 Popular Products:\\n\")\n",
    "display(popular_products_df[['product_id', 'product_name', 'order_count']].head(20))"
   ]
  },
  {
   "cell_type": "markdown",
   "id": "7df00f47",
   "metadata": {},
   "source": []
  },
  {
   "cell_type": "markdown",
   "id": "gross-theme",
   "metadata": {},
   "source": [
    "# Section Eight\n",
    "\n",
    "### [C] Hard (must complete at least two to pass)"
   ]
  },
  {
   "cell_type": "markdown",
   "id": "romantic-deposit",
   "metadata": {},
   "source": [
    "### [C1] How many items do people typically buy in one order? What does the distribution look like?"
   ]
  },
  {
   "cell_type": "code",
   "execution_count": null,
   "id": "virtual-punch",
   "metadata": {},
   "outputs": [],
   "source": []
  },
  {
   "cell_type": "markdown",
   "id": "designed-mortality",
   "metadata": {},
   "source": []
  },
  {
   "cell_type": "markdown",
   "id": "5e6b5537",
   "metadata": {},
   "source": [
    "### [C2] What are the top 20 items that are reordered most frequently (display their names and product IDs)?"
   ]
  },
  {
   "cell_type": "code",
   "execution_count": 58,
   "id": "9374e55a",
   "metadata": {},
   "outputs": [
    {
     "name": "stdout",
     "output_type": "stream",
     "text": [
      "\n",
      "Top 20 Reordered Products:\n",
      "\n"
     ]
    },
    {
     "data": {
      "text/html": [
       "<div>\n",
       "<style scoped>\n",
       "    .dataframe tbody tr th:only-of-type {\n",
       "        vertical-align: middle;\n",
       "    }\n",
       "\n",
       "    .dataframe tbody tr th {\n",
       "        vertical-align: top;\n",
       "    }\n",
       "\n",
       "    .dataframe thead th {\n",
       "        text-align: right;\n",
       "    }\n",
       "</style>\n",
       "<table border=\"1\" class=\"dataframe\">\n",
       "  <thead>\n",
       "    <tr style=\"text-align: right;\">\n",
       "      <th></th>\n",
       "      <th>product_name</th>\n",
       "      <th>product_id</th>\n",
       "      <th>reorder_count</th>\n",
       "    </tr>\n",
       "  </thead>\n",
       "  <tbody>\n",
       "    <tr>\n",
       "      <th>0</th>\n",
       "      <td>Banana</td>\n",
       "      <td>24852</td>\n",
       "      <td>55763</td>\n",
       "    </tr>\n",
       "    <tr>\n",
       "      <th>1</th>\n",
       "      <td>Bag of Organic Bananas</td>\n",
       "      <td>13176</td>\n",
       "      <td>44450</td>\n",
       "    </tr>\n",
       "    <tr>\n",
       "      <th>2</th>\n",
       "      <td>Organic Strawberries</td>\n",
       "      <td>21137</td>\n",
       "      <td>28639</td>\n",
       "    </tr>\n",
       "    <tr>\n",
       "      <th>3</th>\n",
       "      <td>Organic Baby Spinach</td>\n",
       "      <td>21903</td>\n",
       "      <td>26233</td>\n",
       "    </tr>\n",
       "    <tr>\n",
       "      <th>4</th>\n",
       "      <td>Organic Hass Avocado</td>\n",
       "      <td>47209</td>\n",
       "      <td>23629</td>\n",
       "    </tr>\n",
       "    <tr>\n",
       "      <th>5</th>\n",
       "      <td>Organic Avocado</td>\n",
       "      <td>47766</td>\n",
       "      <td>18743</td>\n",
       "    </tr>\n",
       "    <tr>\n",
       "      <th>6</th>\n",
       "      <td>Organic Whole Milk</td>\n",
       "      <td>27845</td>\n",
       "      <td>16251</td>\n",
       "    </tr>\n",
       "    <tr>\n",
       "      <th>7</th>\n",
       "      <td>Large Lemon</td>\n",
       "      <td>47626</td>\n",
       "      <td>15044</td>\n",
       "    </tr>\n",
       "    <tr>\n",
       "      <th>8</th>\n",
       "      <td>Organic Raspberries</td>\n",
       "      <td>27966</td>\n",
       "      <td>14748</td>\n",
       "    </tr>\n",
       "    <tr>\n",
       "      <th>9</th>\n",
       "      <td>Strawberries</td>\n",
       "      <td>16797</td>\n",
       "      <td>13945</td>\n",
       "    </tr>\n",
       "    <tr>\n",
       "      <th>10</th>\n",
       "      <td>Limes</td>\n",
       "      <td>26209</td>\n",
       "      <td>13327</td>\n",
       "    </tr>\n",
       "    <tr>\n",
       "      <th>11</th>\n",
       "      <td>Organic Yellow Onion</td>\n",
       "      <td>22935</td>\n",
       "      <td>11145</td>\n",
       "    </tr>\n",
       "    <tr>\n",
       "      <th>12</th>\n",
       "      <td>Organic Garlic</td>\n",
       "      <td>24964</td>\n",
       "      <td>10411</td>\n",
       "    </tr>\n",
       "    <tr>\n",
       "      <th>13</th>\n",
       "      <td>Organic Zucchini</td>\n",
       "      <td>45007</td>\n",
       "      <td>10076</td>\n",
       "    </tr>\n",
       "    <tr>\n",
       "      <th>14</th>\n",
       "      <td>Cucumber Kirby</td>\n",
       "      <td>49683</td>\n",
       "      <td>9538</td>\n",
       "    </tr>\n",
       "    <tr>\n",
       "      <th>15</th>\n",
       "      <td>Organic Fuji Apple</td>\n",
       "      <td>28204</td>\n",
       "      <td>8989</td>\n",
       "    </tr>\n",
       "    <tr>\n",
       "      <th>16</th>\n",
       "      <td>Apple Honeycrisp Organic</td>\n",
       "      <td>8277</td>\n",
       "      <td>8836</td>\n",
       "    </tr>\n",
       "    <tr>\n",
       "      <th>17</th>\n",
       "      <td>Organic Blueberries</td>\n",
       "      <td>39275</td>\n",
       "      <td>8799</td>\n",
       "    </tr>\n",
       "    <tr>\n",
       "      <th>18</th>\n",
       "      <td>Organic Lemon</td>\n",
       "      <td>5876</td>\n",
       "      <td>8412</td>\n",
       "    </tr>\n",
       "    <tr>\n",
       "      <th>19</th>\n",
       "      <td>Organic Half &amp; Half</td>\n",
       "      <td>49235</td>\n",
       "      <td>8389</td>\n",
       "    </tr>\n",
       "  </tbody>\n",
       "</table>\n",
       "</div>"
      ],
      "text/plain": [
       "                product_name  product_id  reorder_count\n",
       "0                     Banana       24852          55763\n",
       "1     Bag of Organic Bananas       13176          44450\n",
       "2       Organic Strawberries       21137          28639\n",
       "3       Organic Baby Spinach       21903          26233\n",
       "4       Organic Hass Avocado       47209          23629\n",
       "5            Organic Avocado       47766          18743\n",
       "6         Organic Whole Milk       27845          16251\n",
       "7                Large Lemon       47626          15044\n",
       "8        Organic Raspberries       27966          14748\n",
       "9               Strawberries       16797          13945\n",
       "10                     Limes       26209          13327\n",
       "11      Organic Yellow Onion       22935          11145\n",
       "12            Organic Garlic       24964          10411\n",
       "13          Organic Zucchini       45007          10076\n",
       "14            Cucumber Kirby       49683           9538\n",
       "15        Organic Fuji Apple       28204           8989\n",
       "16  Apple Honeycrisp Organic        8277           8836\n",
       "17       Organic Blueberries       39275           8799\n",
       "18             Organic Lemon        5876           8412\n",
       "19       Organic Half & Half       49235           8389"
      ]
     },
     "metadata": {},
     "output_type": "display_data"
    }
   ],
   "source": [
    "top_reordered_products = data_order_products[data_order_products['reordered'] == 1]\n",
    "top_products_summary = top_reordered_products['product_id'].value_counts().reset_index()\n",
    "top_products_summary.columns = ['product_id', 'reorder_count']\n",
    "top_products_summary = top_products_summary.merge(data_products[['product_id', 'product_name']], on='product_id', how='left')\n",
    "\n",
    "print(\"\\nTop 20 Reordered Products:\\n\")\n",
    "display(top_products_summary[['product_name', 'product_id', 'reorder_count']].head(20))"
   ]
  },
  {
   "cell_type": "markdown",
   "id": "80e70c74",
   "metadata": {},
   "source": []
  },
  {
   "cell_type": "markdown",
   "id": "9d312b14",
   "metadata": {},
   "source": [
    "### [C3] For each product, what proportion of its orders are reorders?"
   ]
  },
  {
   "cell_type": "code",
   "execution_count": null,
   "id": "8ae9f4b1",
   "metadata": {},
   "outputs": [],
   "source": []
  },
  {
   "cell_type": "code",
   "execution_count": null,
   "id": "103e7fe1",
   "metadata": {},
   "outputs": [],
   "source": []
  },
  {
   "cell_type": "code",
   "execution_count": null,
   "id": "social-individual",
   "metadata": {},
   "outputs": [],
   "source": []
  },
  {
   "cell_type": "markdown",
   "id": "subject-boxing",
   "metadata": {},
   "source": [
    "### [C4] For each customer, what proportion of their products ordered are reorders?"
   ]
  },
  {
   "cell_type": "code",
   "execution_count": null,
   "id": "medical-couple",
   "metadata": {
    "scrolled": true
   },
   "outputs": [],
   "source": []
  },
  {
   "cell_type": "code",
   "execution_count": null,
   "id": "8892e4b4",
   "metadata": {},
   "outputs": [],
   "source": []
  },
  {
   "cell_type": "markdown",
   "id": "92d35137",
   "metadata": {},
   "source": [
    "### [C5] What are the top 20 items that people put in their carts first? "
   ]
  },
  {
   "cell_type": "code",
   "execution_count": 59,
   "id": "0ae57274",
   "metadata": {
    "scrolled": true
   },
   "outputs": [
    {
     "name": "stdout",
     "output_type": "stream",
     "text": [
      "\n",
      "Top 20 First-Added Products:\n",
      "\n"
     ]
    },
    {
     "data": {
      "text/html": [
       "<div>\n",
       "<style scoped>\n",
       "    .dataframe tbody tr th:only-of-type {\n",
       "        vertical-align: middle;\n",
       "    }\n",
       "\n",
       "    .dataframe tbody tr th {\n",
       "        vertical-align: top;\n",
       "    }\n",
       "\n",
       "    .dataframe thead th {\n",
       "        text-align: right;\n",
       "    }\n",
       "</style>\n",
       "<table border=\"1\" class=\"dataframe\">\n",
       "  <thead>\n",
       "    <tr style=\"text-align: right;\">\n",
       "      <th></th>\n",
       "      <th>product_name</th>\n",
       "      <th>product_id</th>\n",
       "      <th>first_add_count</th>\n",
       "    </tr>\n",
       "  </thead>\n",
       "  <tbody>\n",
       "    <tr>\n",
       "      <th>0</th>\n",
       "      <td>Banana</td>\n",
       "      <td>24852</td>\n",
       "      <td>15562</td>\n",
       "    </tr>\n",
       "    <tr>\n",
       "      <th>1</th>\n",
       "      <td>Bag of Organic Bananas</td>\n",
       "      <td>13176</td>\n",
       "      <td>11026</td>\n",
       "    </tr>\n",
       "    <tr>\n",
       "      <th>2</th>\n",
       "      <td>Organic Whole Milk</td>\n",
       "      <td>27845</td>\n",
       "      <td>4363</td>\n",
       "    </tr>\n",
       "    <tr>\n",
       "      <th>3</th>\n",
       "      <td>Organic Strawberries</td>\n",
       "      <td>21137</td>\n",
       "      <td>3946</td>\n",
       "    </tr>\n",
       "    <tr>\n",
       "      <th>4</th>\n",
       "      <td>Organic Hass Avocado</td>\n",
       "      <td>47209</td>\n",
       "      <td>3390</td>\n",
       "    </tr>\n",
       "    <tr>\n",
       "      <th>5</th>\n",
       "      <td>Organic Baby Spinach</td>\n",
       "      <td>21903</td>\n",
       "      <td>3336</td>\n",
       "    </tr>\n",
       "    <tr>\n",
       "      <th>6</th>\n",
       "      <td>Organic Avocado</td>\n",
       "      <td>47766</td>\n",
       "      <td>3044</td>\n",
       "    </tr>\n",
       "    <tr>\n",
       "      <th>7</th>\n",
       "      <td>Spring Water</td>\n",
       "      <td>19660</td>\n",
       "      <td>2336</td>\n",
       "    </tr>\n",
       "    <tr>\n",
       "      <th>8</th>\n",
       "      <td>Strawberries</td>\n",
       "      <td>16797</td>\n",
       "      <td>2308</td>\n",
       "    </tr>\n",
       "    <tr>\n",
       "      <th>9</th>\n",
       "      <td>Organic Raspberries</td>\n",
       "      <td>27966</td>\n",
       "      <td>2024</td>\n",
       "    </tr>\n",
       "    <tr>\n",
       "      <th>10</th>\n",
       "      <td>Sparkling Water Grapefruit</td>\n",
       "      <td>44632</td>\n",
       "      <td>1914</td>\n",
       "    </tr>\n",
       "    <tr>\n",
       "      <th>11</th>\n",
       "      <td>Organic Half &amp; Half</td>\n",
       "      <td>49235</td>\n",
       "      <td>1797</td>\n",
       "    </tr>\n",
       "    <tr>\n",
       "      <th>12</th>\n",
       "      <td>Large Lemon</td>\n",
       "      <td>47626</td>\n",
       "      <td>1737</td>\n",
       "    </tr>\n",
       "    <tr>\n",
       "      <th>13</th>\n",
       "      <td>Soda</td>\n",
       "      <td>196</td>\n",
       "      <td>1733</td>\n",
       "    </tr>\n",
       "    <tr>\n",
       "      <th>14</th>\n",
       "      <td>Organic Reduced Fat Milk</td>\n",
       "      <td>38689</td>\n",
       "      <td>1397</td>\n",
       "    </tr>\n",
       "    <tr>\n",
       "      <th>15</th>\n",
       "      <td>Limes</td>\n",
       "      <td>26209</td>\n",
       "      <td>1370</td>\n",
       "    </tr>\n",
       "    <tr>\n",
       "      <th>16</th>\n",
       "      <td>Hass Avocados</td>\n",
       "      <td>12341</td>\n",
       "      <td>1340</td>\n",
       "    </tr>\n",
       "    <tr>\n",
       "      <th>17</th>\n",
       "      <td>Organic Reduced Fat 2% Milk</td>\n",
       "      <td>5785</td>\n",
       "      <td>1310</td>\n",
       "    </tr>\n",
       "    <tr>\n",
       "      <th>18</th>\n",
       "      <td>Half &amp; Half</td>\n",
       "      <td>27086</td>\n",
       "      <td>1309</td>\n",
       "    </tr>\n",
       "    <tr>\n",
       "      <th>19</th>\n",
       "      <td>Organic Yellow Onion</td>\n",
       "      <td>22935</td>\n",
       "      <td>1246</td>\n",
       "    </tr>\n",
       "  </tbody>\n",
       "</table>\n",
       "</div>"
      ],
      "text/plain": [
       "                   product_name  product_id  first_add_count\n",
       "0                        Banana       24852            15562\n",
       "1        Bag of Organic Bananas       13176            11026\n",
       "2            Organic Whole Milk       27845             4363\n",
       "3          Organic Strawberries       21137             3946\n",
       "4          Organic Hass Avocado       47209             3390\n",
       "5          Organic Baby Spinach       21903             3336\n",
       "6               Organic Avocado       47766             3044\n",
       "7                  Spring Water       19660             2336\n",
       "8                  Strawberries       16797             2308\n",
       "9           Organic Raspberries       27966             2024\n",
       "10   Sparkling Water Grapefruit       44632             1914\n",
       "11          Organic Half & Half       49235             1797\n",
       "12                  Large Lemon       47626             1737\n",
       "13                         Soda         196             1733\n",
       "14     Organic Reduced Fat Milk       38689             1397\n",
       "15                        Limes       26209             1370\n",
       "16                Hass Avocados       12341             1340\n",
       "17  Organic Reduced Fat 2% Milk        5785             1310\n",
       "18                  Half & Half       27086             1309\n",
       "19         Organic Yellow Onion       22935             1246"
      ]
     },
     "metadata": {},
     "output_type": "display_data"
    }
   ],
   "source": [
    "top_first_cart_items = data_order_products[data_order_products['add_to_cart_order'] == 1]['product_id'].value_counts().reset_index()\n",
    "\n",
    "top_first_cart_items.columns = ['product_id', 'first_add_count']\n",
    "\n",
    "top_first_cart_items = top_first_cart_items.merge(\n",
    "    data_products[['product_id', 'product_name']], \n",
    "    on='product_id',\n",
    "    how='left'\n",
    ")\n",
    "\n",
    "print(\"\\nTop 20 First-Added Products:\\n\")\n",
    "display(top_first_cart_items[['product_name', 'product_id', 'first_add_count']].head(20))"
   ]
  },
  {
   "cell_type": "markdown",
   "id": "092850b0",
   "metadata": {},
   "source": [
    "### [C6] Data Analysis Results"
   ]
  },
  {
   "cell_type": "markdown",
   "id": "a87e925f",
   "metadata": {},
   "source": [
    "<div align=\"center\">\n",
    "\n",
    "## Observations\n",
    "\n",
    "</div>"
   ]
  },
  {
   "cell_type": "markdown",
   "id": "28ce9872",
   "metadata": {},
   "source": [
    "Taking all information into consideration, this dataset shows that initial customer interest is very strong, while retaining long-term usage of the platform is equally challenging. The dataset only includes purchase details and lacks demographics such as age, region, occupation, or income. However, the purchase data reveals that Instacart customers in this dataset tend to buy healthy food items—like organic fruits, vegetables, and dairy products—and often repeat these orders. Although repeat purchases suggest satisfaction with product quality, long-term usage remains limited.\n",
    "\n",
    "The purchase data and visualizations highlight a robust initial interest—evidenced by over 90,000 first-time customers—and peak ordering periods throughout most of the day. Yet, the significant drop to 22,000 customers for the second purchase underscores a challenge in retaining customers long-term. This gap is difficult to fully explain without additional data on demographics, customer satisfaction, pricing, or competitive factors.\n",
    "\n",
    "Additionally, the visualization of order activity indicates that a substantial portion of the day (14 out of 24 hours) consistently sees at least 1,000 orders, emphasizing high daily engagement during peak hours. While this reinforces the strong initial interest, it does not directly address the retention challenge.\n",
    "\n",
    "This pattern could be influenced by cost or other factors not captured in the data. Overall, the information indicates strong repeat purchases for healthy items but limited long-term retention, highlighting a strategic opportunity to target consumers who prioritize healthy lifestyles and dieting.\n",
    "\n",
    "The absence of additional data leaves these questions unanswered:\n",
    "- Whether the retention issue is platform-specific or industry-standard\n",
    "- The impact of pricing, delivery times, or product availability on retention\n",
    "- Customer satisfaction metrics that might explain the drop-off"
   ]
  },
  {
   "cell_type": "markdown",
   "id": "4160dd5d",
   "metadata": {},
   "source": [
    "<div align=\"center\">\n",
    "\n",
    "## Interpretation of Findings\n",
    "\n",
    "</div>"
   ]
  },
  {
   "cell_type": "markdown",
   "id": "cc59eb70",
   "metadata": {},
   "source": [
    "Adding to the analysis, the aisle and department data may parallel physical supermarket layouts, where fresh produce typically occupies the perimeter while shelf-stable items fill center aisles. If Instacart's digital interface mimics this design, it may explain why fresh items consistently appear at the beginning of customers' shopping carts - they're encountered first. This may represent a strategy to promote perishable goods and minimize waste and financial losses. Though the interface may have evolved since 2017, these insights offer an alternate understanding of customer behavior on the platform."
   ]
  },
  {
   "cell_type": "markdown",
   "id": "fcd47525",
   "metadata": {},
   "source": [
    "<div align=\"center\">\n",
    "\n",
    "## Conclusion and Strategic Recommendations\n",
    "\n",
    "</div>"
   ]
  },
  {
   "cell_type": "markdown",
   "id": "b505aee1",
   "metadata": {},
   "source": [
    "To maximize growth potential, Instacart should build upon its demonstrated success in attracting first-time users, particularly through its strong performance with perishable items. While these products currently dominate top-selling categories and help minimize initial financial losses, long-term growth requires a balanced approach. The next phase of growth should include implementing targeted promotions focused on customer retention while strategically expanding purchases to include longer-shelf-life products. For example, offering a 50% discount on any bread product when paired with a full-priced fresh item could provide valuable insights into customer preferences for non-perishable goods when not pre-selected by Instacart. Additionally, analyzing customer engagement with such promotions—whether they accept or decline them—could be complemented by a brief follow-up survey to understand decision-making factors and refine future offerings.\n",
    "\n",
    "These data-driven recommendations offer Instacart a clear path forward. By leveraging its success with first-time users and high-demand perishable items, Instacart can strategically promote longer-shelf-life products to boost customer retention and profitability"
   ]
  }
 ],
 "metadata": {
  "kernelspec": {
   "display_name": "Python 3",
   "language": "python",
   "name": "python3"
  },
  "language_info": {
   "codemirror_mode": {
    "name": "ipython",
    "version": 3
   },
   "file_extension": ".py",
   "mimetype": "text/x-python",
   "name": "python",
   "nbconvert_exporter": "python",
   "pygments_lexer": "ipython3",
   "version": "3.13.1"
  }
 },
 "nbformat": 4,
 "nbformat_minor": 5
}
